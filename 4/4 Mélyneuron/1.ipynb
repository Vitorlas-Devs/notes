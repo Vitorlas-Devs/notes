{
 "cells": [
  {
   "cell_type": "code",
   "execution_count": 1,
   "id": "f750ba8c-08bd-4a1f-b842-70fc11ea2d3d",
   "metadata": {
    "id": "f750ba8c-08bd-4a1f-b842-70fc11ea2d3d"
   },
   "outputs": [],
   "source": [
    "import numpy as np\n",
    "import torch\n",
    "import copy\n"
   ]
  },
  {
   "cell_type": "code",
   "execution_count": 2,
   "id": "a5bb667e-aa0e-4658-9341-8d79b568ada7",
   "metadata": {
    "id": "a5bb667e-aa0e-4658-9341-8d79b568ada7",
    "outputId": "082934b8-8094-4ba0-9ad0-882cce4081ff",
    "scrolled": true
   },
   "outputs": [
    {
     "name": "stdout",
     "output_type": "stream",
     "text": [
      "tensor([[ 1.,  2.,  3.,  4.,  5.],\n",
      "        [ 2.,  4.,  6.,  8., 10.],\n",
      "        [ 3.,  6.,  9., 12., 15.],\n",
      "        [ 4.,  8., 12., 16., 20.],\n",
      "        [ 5., 10., 15., 20., 25.]])\n",
      "torch.Size([5, 5])\n",
      "(5, 1)\n",
      "torch.float32\n",
      "4\n",
      "25\n",
      "cpu\n",
      "2\n"
     ]
    }
   ],
   "source": [
    "a = torch.arange(1, 6, dtype=torch.float32)   # default: device = 'cpu'\n",
    "b = a * a[:, None]\n",
    "print(b)\n",
    "print(b.shape)      # same as b.size()\n",
    "print(b.stride())      # jump size is not given in bytes, but in number of items\n",
    "print(b.dtype)\n",
    "print(b.itemsize)\n",
    "print(b.numel())    # same as size in numpy\n",
    "print(b.device)\n",
    "print(b.ndim)\n"
   ]
  },
  {
   "cell_type": "code",
   "execution_count": 4,
   "id": "7c0e1773-354e-4cfb-9edc-5daa7b954f0a",
   "metadata": {
    "id": "7c0e1773-354e-4cfb-9edc-5daa7b954f0a",
    "outputId": "3c9262cf-5eb7-48cf-e88c-946f62e554d1"
   },
   "outputs": [
    {
     "name": "stdout",
     "output_type": "stream",
     "text": [
      "(5, 2)\n",
      "(3, 1)\n"
     ]
    }
   ],
   "source": [
    "print(b[:,::2].stride())         # basic indexing:  view\n",
    "print(b[[1,3],::2].stride())     # advanced indexing: copy\n"
   ]
  },
  {
   "cell_type": "code",
   "execution_count": null,
   "id": "0ac9dce4-fbe2-4881-b7e9-47950160e1e7",
   "metadata": {
    "id": "0ac9dce4-fbe2-4881-b7e9-47950160e1e7",
    "outputId": "c306b6c0-6b6a-4c5a-bbc5-368fe4d8d9cd"
   },
   "outputs": [
    {
     "name": "stdout",
     "output_type": "stream",
     "text": [
      "tensor([[ 1,  2,  3,  4,  5],\n",
      "        [ 2,  4,  6,  8, 10],\n",
      "        [ 3,  6,  9, 12, 15],\n",
      "        [ 4,  8, 12, 16, 20],\n",
      "        [ 5, 10, 15, 20, 25]])\n",
      "\n",
      "[[ 1  2  3  4  5]\n",
      " [ 2  4  6  8 10]\n",
      " [ 3  6  9 12 15]\n",
      " [ 4  8 12 16 20]\n",
      " [ 5 10 15 20 25]]\n",
      "\n",
      "tensor([[ 1,  2,  3,  4,  5],\n",
      "        [ 2,  4,  6,  8, 10],\n",
      "        [ 3,  6,  9, 12, 15],\n",
      "        [ 4,  8, 12, 16, 20],\n",
      "        [ 5, 10, 15, 20, 25]])\n"
     ]
    }
   ],
   "source": [
    "c = b.to(torch.int64)    # similar to ndarray.astype()\n",
    "print(c)\n",
    "print()\n",
    "\n",
    "d = c.numpy()            # numpy ndarray -> torch tensor conversion, does not copy memory by default (dtype, layout must be supported)\n",
    "print(d)\n",
    "print()\n",
    "\n",
    "e = torch.from_numpy(d)  # torch tensor -> numpy ndarray conversion, does not copy memory by default (dtype, layout must be supported)\n",
    "print(e)\n"
   ]
  },
  {
   "cell_type": "code",
   "execution_count": null,
   "id": "e6f5d5a4-ae18-4156-8461-9fc4bdac8e7d",
   "metadata": {
    "id": "e6f5d5a4-ae18-4156-8461-9fc4bdac8e7d",
    "outputId": "1af98e9c-99f6-455c-ebc2-9173eed10f53"
   },
   "outputs": [
    {
     "name": "stdout",
     "output_type": "stream",
     "text": [
      "tensor([ 3.,  6.,  9., 12., 15.])\n",
      "tensor([ 3.,  6.,  9., 12., 15.])\n",
      "tensor([[ 3.],\n",
      "        [ 6.],\n",
      "        [ 9.],\n",
      "        [12.],\n",
      "        [15.]])\n"
     ]
    }
   ],
   "source": [
    "print(torch.mean(b, dim=0))     # 'axis' or 'dim' - same functionality, but 'dim' is the original in pytorch\n",
    "print(torch.mean(b, axis=0))\n",
    "print(torch.mean(b, axis=1, keepdim=True))\n"
   ]
  },
  {
   "cell_type": "code",
   "execution_count": null,
   "id": "1998afb7-41eb-43d9-a609-2b56e59b62d2",
   "metadata": {
    "id": "1998afb7-41eb-43d9-a609-2b56e59b62d2",
    "outputId": "cb42d501-c1df-4e8b-c40d-bfc8385d34ea"
   },
   "outputs": [
    {
     "name": "stdout",
     "output_type": "stream",
     "text": [
      "tensor([[ 5.,  4.,  3.,  2.,  1.],\n",
      "        [10.,  8.,  6.,  4.,  2.],\n",
      "        [15., 12.,  9.,  6.,  3.],\n",
      "        [20., 16., 12.,  8.,  4.],\n",
      "        [25., 20., 15., 10.,  5.]])\n"
     ]
    }
   ],
   "source": [
    "#print(b[:,::-1])    # raises \"ValueError: step must be greater than zero\" -> no negative strides in torch\n",
    "print(torch.flip(b, dims=(1,)))   # not a view, but a copy\n"
   ]
  },
  {
   "cell_type": "code",
   "execution_count": null,
   "id": "cd3b360a-131e-4950-b9c6-ccae9b2d5c6b",
   "metadata": {
    "id": "cd3b360a-131e-4950-b9c6-ccae9b2d5c6b",
    "outputId": "592e6045-52b5-40d7-ee18-7fa0e6590fb0",
    "scrolled": true
   },
   "outputs": [
    {
     "name": "stdout",
     "output_type": "stream",
     "text": [
      "a: tensor([7.], requires_grad=True)\n",
      "∂z/∂a: (tensor([14.]),)\n",
      "∂z/∂q: (tensor([1.]),)\n"
     ]
    }
   ],
   "source": [
    "a = torch.tensor([7.], dtype=torch.float32, requires_grad=True)\n",
    "b = torch.tensor([11.], dtype=torch.float32, requires_grad=True)\n",
    "q = a ** 2\n",
    "z = q + 3*b\n",
    "\n",
    "dz_da = torch.autograd.grad(z, a)   # 1*2*a\n",
    "dz_dq = torch.autograd.grad(z, q)   # 1\n",
    "#dq_da = torch.autograd.grad(q, a)   # 2*a   # raises \"RuntimeError: Trying to backward through the graph a second time ...\"\n",
    "                                            #     use all previous autograd.grad() or backward() calls with 'retain_graph=True' argument\n",
    "                                            #     otherwise intermediate gradient tensors are not kept\n",
    "print('a:', a)\n",
    "print('∂z/∂a:', dz_da)\n",
    "print('∂z/∂q:', dz_dq)\n",
    "#print('∂q/∂a:', dq_da)\n",
    "\n"
   ]
  },
  {
   "cell_type": "markdown",
   "id": "5245899e-49e7-43ea-bac5-f8e9da4f1575",
   "metadata": {
    "id": "5245899e-49e7-43ea-bac5-f8e9da4f1575"
   },
   "source": [
    "# Adatbetöltés és konvertálás NumPy tömbre (vagy tenzorrá)\n",
    "\n",
    "Adatbázis: Titanic Dataset - https://www.kaggle.com/datasets/yasserh/titanic-dataset (kiválasztandó az összes oszlop a teljes adatbázis böngészéséhez: \"12 of 12 columns\")."
   ]
  },
  {
   "cell_type": "code",
   "execution_count": 6,
   "id": "192cf8d8-31b8-4e4e-acc8-b0c61967752c",
   "metadata": {
    "id": "192cf8d8-31b8-4e4e-acc8-b0c61967752c"
   },
   "outputs": [],
   "source": [
    "titanic_csv_url = 'https://nipg12.inf.elte.hu/~vavsaai@nipg.lab/annbsc25_p1/files/titanic.csv'"
   ]
  },
  {
   "cell_type": "markdown",
   "id": "4d53f77b-0f0d-4fc7-9581-e8e0ff4c1099",
   "metadata": {
    "id": "4d53f77b-0f0d-4fc7-9581-e8e0ff4c1099"
   },
   "source": [
    "### Adatbetöltés, 1. opció: Fapados módszer, betöltés string-ként és feldolgozás"
   ]
  },
  {
   "cell_type": "code",
   "execution_count": 7,
   "id": "0d513430-f954-41bc-9b85-fdec28fe41df",
   "metadata": {
    "colab": {
     "base_uri": "https://localhost:8080/"
    },
    "id": "0d513430-f954-41bc-9b85-fdec28fe41df",
    "outputId": "7537d17d-4168-4c2d-a8e4-906f2176ff0d"
   },
   "outputs": [
    {
     "name": "stdout",
     "output_type": "stream",
     "text": [
      "61194\n",
      "\n",
      "PassengerId,Survived,Pclass,Name,Sex,Age,SibSp,Parch,Ticket,Fare,Cabin,Embarked\n",
      "1,0,3,\"Braund, Mr. Owen Harris\",male,22,1,0,A/5 21171,7.25,,S\n",
      "2,1,1,\"Cumings, Mrs. John Bradley (Florence Briggs Thayer)\",female,38,1,0,PC 17599,71.2833,C85,C\n",
      "3,1,3,\"Heikkinen, Miss. Laina\",female,26,0,0,STON/O2. 3101282,7.925,,S\n",
      "4,1,1,\"Futrelle, Mrs. Jacques Heath (Lily May Peel)\",female,35,1,0,113803,53.1,C123,S\n",
      "5,0,3,\"Allen, Mr. William Henry\",male,35,0,0,373450,8.05,,S\n",
      "6,0,3,\"Moran, Mr. James\",male,,0,0,330\n"
     ]
    }
   ],
   "source": [
    "# Option#1: read file with urllib\n",
    "\n",
    "import urllib\n",
    "\n",
    "ftpstream = urllib.request.urlopen(titanic_csv_url)\n",
    "dataset_content = ftpstream.read().decode('utf-8')\n",
    "print(len(dataset_content))\n",
    "print()\n",
    "print(dataset_content[:500])\n",
    "\n",
    "\n",
    "INPUT_VAR_NAMES = [\"Pclass\", \"Sex\", \"Age\", \"SibSp\", \"Parch\", \"Fare\", \"Embarked\"]\n",
    "input_var_names_objarr = np.array(INPUT_VAR_NAMES, dtype=object)\n"
   ]
  },
  {
   "cell_type": "code",
   "execution_count": null,
   "id": "0cd0ae70-7ff6-4b06-b4e7-e486c44d6baf",
   "metadata": {
    "colab": {
     "base_uri": "https://localhost:8080/"
    },
    "id": "0cd0ae70-7ff6-4b06-b4e7-e486c44d6baf",
    "outputId": "c8e1e8ab-5bb2-46da-ee96-574a607ef772"
   },
   "outputs": [
    {
     "name": "stdout",
     "output_type": "stream",
     "text": [
      "60303\n",
      "\n",
      "PassengerId,Survived,Pclass,Name,Sex,Age,SibSp,Parch,Ticket,Fare,Cabin,Embarked\r\n",
      "1,0,3,\"Braund Mr. Owen Harris\",male,22,1,0,A/5 21171,7.25,,S\r\n",
      "2,1,1,\"Cumings Mrs. John Bradley (Florence Briggs Thayer)\",female,38,1,0,PC 17599,71.2833,C85,C\r\n",
      "3,1,3,\"Heikkinen Miss. Laina\",female,26,0,0,STON/O2. 3101282,7.925,,S\r\n",
      "4,1,1,\"Futrelle Mrs. Jacques Heath (Lily May Peel)\",female,35,1,0,113803,53.1,C123,S\r\n",
      "5,0,3,\"Allen Mr. William Henry\",male,35,0,0,373450,8.05,,S\r\n",
      "6,0,3,\"Moran Mr. James\",male,,0,0,330877,8.\n"
     ]
    }
   ],
   "source": [
    "# replace a single comma from the Name field to not interfere with splitting the line at commas to get individual variable values\n",
    "\n",
    "import re    # built-in regexp module\n",
    "dataset_content = re.sub('\"([^\",]+),([^\"]+)\"', '\"\\g<1>\\g<2>\"', dataset_content)\n",
    "print(len(dataset_content))\n",
    "print()\n",
    "print(dataset_content[:500])\n"
   ]
  },
  {
   "cell_type": "code",
   "execution_count": null,
   "id": "916db12a-461c-412c-a925-3beec457d113",
   "metadata": {
    "colab": {
     "base_uri": "https://localhost:8080/"
    },
    "id": "916db12a-461c-412c-a925-3beec457d113",
    "outputId": "24a67916-3080-4aa8-d910-f808688edd12"
   },
   "outputs": [
    {
     "name": "stdout",
     "output_type": "stream",
     "text": [
      "['PassengerId', 'Survived', 'Pclass', 'Name', 'Sex', 'Age', 'SibSp', 'Parch', 'Ticket', 'Fare', 'Cabin', 'Embarked\\r']\n",
      "[['1', '0', '3', '\"Braund Mr. Owen Harris\"', 'male', '22', '1', '0', 'A/5 21171', '7.25', '', 'S\\r'], ['2', '1', '1', '\"Cumings Mrs. John Bradley (Florence Briggs Thayer)\"', 'female', '38', '1', '0', 'PC 17599', '71.2833', 'C85', 'C\\r'], ['3', '1', '3', '\"Heikkinen Miss. Laina\"', 'female', '26', '0', '0', 'STON/O2. 3101282', '7.925', '', 'S\\r']]\n"
     ]
    }
   ],
   "source": [
    "lines = dataset_content.split('\\n')\n",
    "lines_segmented = [line.split(',') for line in lines]   # list (lines) of lists (words in each line)\n",
    "attr_names = lines_segmented[0]\n",
    "data = lines_segmented[1:-1]\n",
    "print(attr_names)\n",
    "print(data[:3])\n"
   ]
  },
  {
   "cell_type": "code",
   "execution_count": null,
   "id": "c695c3cb-b9bb-46ef-ad6c-8150a5b8b60d",
   "metadata": {
    "colab": {
     "base_uri": "https://localhost:8080/"
    },
    "id": "c695c3cb-b9bb-46ef-ad6c-8150a5b8b60d",
    "outputId": "a6e70eb2-9bb5-47e4-bdf7-4c97bd1503ce"
   },
   "outputs": [
    {
     "name": "stdout",
     "output_type": "stream",
     "text": [
      "[[0.0, 3.0, 1, 22.0, 1.0, 0.0, 7.25, 2], [1.0, 1.0, 0, 38.0, 1.0, 0.0, 71.2833, 0], [1.0, 3.0, 0, 26.0, 0.0, 0.0, 7.925, 2], [1.0, 1.0, 0, 35.0, 1.0, 0.0, 53.1, 2], [0.0, 3.0, 1, 35.0, 0.0, 0.0, 8.05, 2]]\n"
     ]
    }
   ],
   "source": [
    "\n",
    "# INPUT_VAR_NAMES = [\"Pclass\", \"Sex\", \"Age\", \"SibSp\", \"Parch\", \"Fare\", \"Embarked\"]\n",
    "sex_dict = {'female': 0, 'male': 1}\n",
    "embarked_dict = {'C': 0, 'Q': 1, 'S': 2}\n",
    "\n",
    "dataset = []\n",
    "for rec in data:\n",
    "    dataset_row = []\n",
    "    for item_idx, item in enumerate(rec):\n",
    "        item = item.strip()    # remove whitespace \\r, \\n from the two ends of the string\n",
    "        if item_idx in {1, 2, 5, 6, 7, 9}:\n",
    "            val = float('nan') if item == '' else float(item)\n",
    "        elif item_idx == 4:\n",
    "            val = sex_dict[item]\n",
    "        elif item_idx == 11:\n",
    "            val = float('nan') if item == '' else embarked_dict[item]\n",
    "        else:\n",
    "            continue\n",
    "        dataset_row.append(val)\n",
    "    dataset.append(dataset_row)\n",
    "\n",
    "print(dataset[:5])"
   ]
  },
  {
   "cell_type": "code",
   "execution_count": null,
   "id": "fe571293-382f-4539-8fea-78566dc81f74",
   "metadata": {
    "colab": {
     "base_uri": "https://localhost:8080/"
    },
    "id": "fe571293-382f-4539-8fea-78566dc81f74",
    "outputId": "f3fa182a-3adc-4972-de39-3c6428b095c0"
   },
   "outputs": [
    {
     "name": "stdout",
     "output_type": "stream",
     "text": [
      "[[ 0.      3.      1.     22.      1.      0.      7.25    2.    ]\n",
      " [ 1.      1.      0.     38.      1.      0.     71.2833  0.    ]\n",
      " [ 1.      3.      0.     26.      0.      0.      7.925   2.    ]\n",
      " [ 1.      1.      0.     35.      1.      0.     53.1     2.    ]\n",
      " [ 0.      3.      1.     35.      0.      0.      8.05    2.    ]]\n",
      "(891, 8)\n",
      "inputs array shape: (891, 7), dtype: float32\n",
      "[[ 3.      1.     22.      1.      0.      7.25    2.    ]\n",
      " [ 1.      0.     38.      1.      0.     71.2833  0.    ]\n",
      " [ 3.      0.     26.      0.      0.      7.925   2.    ]\n",
      " [ 1.      0.     35.      1.      0.     53.1     2.    ]\n",
      " [ 3.      1.     35.      0.      0.      8.05    2.    ]]\n",
      "labels array shape: (891,), dtype: int32\n",
      "[0 1 1 1 0]\n"
     ]
    }
   ],
   "source": [
    "\n",
    "dataset_arr = np.array(dataset, dtype=np.float32)\n",
    "print(dataset_arr[:5])\n",
    "print(dataset_arr.shape)\n",
    "\n",
    "inputs = dataset_arr[:,1:]\n",
    "print(f\"inputs array shape: {inputs.shape}, dtype: {inputs.dtype}\")\n",
    "print(inputs[:5, :])\n",
    "labels = dataset_arr[:,0].astype(np.int32)\n",
    "print(f\"labels array shape: {labels.shape}, dtype: {labels.dtype}\")\n",
    "print(labels[:5])"
   ]
  },
  {
   "cell_type": "markdown",
   "id": "b367937a-ce85-4898-86a8-059807b3532e",
   "metadata": {
    "id": "b367937a-ce85-4898-86a8-059807b3532e"
   },
   "source": [
    "### Adatbetöltés, 2. opció: `csv` modul"
   ]
  },
  {
   "cell_type": "code",
   "execution_count": null,
   "id": "9e4c23f6-ab51-4138-83cd-fb27c692d526",
   "metadata": {
    "id": "9e4c23f6-ab51-4138-83cd-fb27c692d526"
   },
   "outputs": [],
   "source": [
    "# Only in Colab: download file to Colab disk by using the bash command 'wget'\n",
    "#   !wget https://nipg12.inf.elte.hu/~vavsaai@nipg.lab/annbsc25_p1/files/titanic.csv"
   ]
  },
  {
   "cell_type": "code",
   "execution_count": null,
   "id": "ade16ec4-092a-4f85-9d7b-6c61b05e3ef0",
   "metadata": {
    "id": "ade16ec4-092a-4f85-9d7b-6c61b05e3ef0",
    "outputId": "e1d5a79f-6cec-4b69-db7e-a7a39fd6fe83"
   },
   "outputs": [
    {
     "name": "stdout",
     "output_type": "stream",
     "text": [
      "['PassengerId', 'Survived', 'Pclass', 'Name', 'Sex', 'Age', 'SibSp', 'Parch', 'Ticket', 'Fare', 'Cabin', 'Embarked']\n"
     ]
    }
   ],
   "source": [
    "import csv\n",
    "\n",
    "with open('titanic.csv', 'r') as file:\n",
    "    my_reader = csv.reader(file, delimiter=',')\n",
    "    attr_names = next(my_reader)\n",
    "    print(attr_names)\n",
    "\n",
    "    sex_dict = {'female': 0, 'male': 1}\n",
    "    embarked_dict = {'C': 0, 'Q': 1, 'S': 2}\n",
    "\n",
    "    dataset = []\n",
    "    for row in my_reader:\n",
    "        dataset_row = []\n",
    "        for item_idx, item in enumerate(row):\n",
    "            item = item.strip()\n",
    "            if item_idx in {1, 2, 5, 6, 7, 9}:\n",
    "                val = float('nan') if item == '' else float(item)\n",
    "            elif item_idx == 4:\n",
    "                val = sex_dict[item]\n",
    "            elif item_idx == 11:\n",
    "                val = float('nan') if item == '' else embarked_dict[item]\n",
    "            else:\n",
    "                continue\n",
    "            dataset_row.append(val)\n",
    "        dataset.append(dataset_row)\n"
   ]
  },
  {
   "cell_type": "code",
   "execution_count": null,
   "id": "08644c73-d8c1-434c-817d-19f8869e59ca",
   "metadata": {
    "id": "08644c73-d8c1-434c-817d-19f8869e59ca",
    "outputId": "60b04dea-e346-4da8-cae2-e94472f5c76f"
   },
   "outputs": [
    {
     "name": "stdout",
     "output_type": "stream",
     "text": [
      "[[ 0.      3.      1.     22.      1.      0.      7.25    2.    ]\n",
      " [ 1.      1.      0.     38.      1.      0.     71.2833  0.    ]\n",
      " [ 1.      3.      0.     26.      0.      0.      7.925   2.    ]\n",
      " [ 1.      1.      0.     35.      1.      0.     53.1     2.    ]\n",
      " [ 0.      3.      1.     35.      0.      0.      8.05    2.    ]]\n",
      "\n",
      "inputs array shape: (891, 7), dtype: float32\n",
      "[[ 3.      1.     22.      1.      0.      7.25    2.    ]\n",
      " [ 1.      0.     38.      1.      0.     71.2833  0.    ]\n",
      " [ 3.      0.     26.      0.      0.      7.925   2.    ]\n",
      " [ 1.      0.     35.      1.      0.     53.1     2.    ]\n",
      " [ 3.      1.     35.      0.      0.      8.05    2.    ]]\n",
      "labels array shape: (891,), dtype: int32\n",
      "[0 1 1 1 0]\n"
     ]
    }
   ],
   "source": [
    "\n",
    "dataset_arr = np.array(dataset, dtype=np.float32)\n",
    "print(dataset_arr[:5])\n",
    "print()\n",
    "\n",
    "inputs = dataset_arr[:,1:]\n",
    "print(f\"inputs array shape: {inputs.shape}, dtype: {inputs.dtype}\")\n",
    "print(inputs[:5, :])\n",
    "labels = dataset_arr[:,0].astype(np.int32)\n",
    "print(f\"labels array shape: {labels.shape}, dtype: {labels.dtype}\")\n",
    "print(labels[:5])"
   ]
  },
  {
   "cell_type": "markdown",
   "id": "46e40158-ca4a-4cd1-b42b-94a5e37bc1eb",
   "metadata": {
    "id": "46e40158-ca4a-4cd1-b42b-94a5e37bc1eb"
   },
   "source": [
    "### Adatbetöltés, 3. opció: Pandas könyvtár"
   ]
  },
  {
   "cell_type": "code",
   "execution_count": null,
   "id": "78e7982b-106b-4893-87d7-d3084763bbe9",
   "metadata": {
    "id": "78e7982b-106b-4893-87d7-d3084763bbe9",
    "outputId": "8d2eaee8-4d1b-49c4-e73b-af70630cc3d3"
   },
   "outputs": [
    {
     "name": "stdout",
     "output_type": "stream",
     "text": [
      "<class 'pandas.core.frame.DataFrame'>\n",
      "RangeIndex: 891 entries, 0 to 890\n",
      "Data columns (total 12 columns):\n",
      " #   Column       Non-Null Count  Dtype  \n",
      "---  ------       --------------  -----  \n",
      " 0   PassengerId  891 non-null    int64  \n",
      " 1   Survived     891 non-null    int64  \n",
      " 2   Pclass       891 non-null    int64  \n",
      " 3   Name         891 non-null    object \n",
      " 4   Sex          891 non-null    object \n",
      " 5   Age          714 non-null    float64\n",
      " 6   SibSp        891 non-null    int64  \n",
      " 7   Parch        891 non-null    int64  \n",
      " 8   Ticket       891 non-null    object \n",
      " 9   Fare         891 non-null    float64\n",
      " 10  Cabin        204 non-null    object \n",
      " 11  Embarked     889 non-null    object \n",
      "dtypes: float64(2), int64(5), object(5)\n",
      "memory usage: 83.7+ KB\n"
     ]
    }
   ],
   "source": [
    "import pandas as pd\n",
    "titanic_dataframe = pd.read_csv(titanic_csv_url)\n",
    "titanic_dataframe.info()"
   ]
  },
  {
   "cell_type": "code",
   "execution_count": null,
   "id": "ff6b5cb1-d269-464b-8e3f-8e826a043199",
   "metadata": {
    "id": "ff6b5cb1-d269-464b-8e3f-8e826a043199",
    "outputId": "70d44361-ba8b-4f09-d16e-c91eacd99231"
   },
   "outputs": [
    {
     "data": {
      "text/html": [
       "<div>\n",
       "<style scoped>\n",
       "    .dataframe tbody tr th:only-of-type {\n",
       "        vertical-align: middle;\n",
       "    }\n",
       "\n",
       "    .dataframe tbody tr th {\n",
       "        vertical-align: top;\n",
       "    }\n",
       "\n",
       "    .dataframe thead th {\n",
       "        text-align: right;\n",
       "    }\n",
       "</style>\n",
       "<table border=\"1\" class=\"dataframe\">\n",
       "  <thead>\n",
       "    <tr style=\"text-align: right;\">\n",
       "      <th></th>\n",
       "      <th>PassengerId</th>\n",
       "      <th>Survived</th>\n",
       "      <th>Pclass</th>\n",
       "      <th>Name</th>\n",
       "      <th>Sex</th>\n",
       "      <th>Age</th>\n",
       "      <th>SibSp</th>\n",
       "      <th>Parch</th>\n",
       "      <th>Ticket</th>\n",
       "      <th>Fare</th>\n",
       "      <th>Cabin</th>\n",
       "      <th>Embarked</th>\n",
       "    </tr>\n",
       "  </thead>\n",
       "  <tbody>\n",
       "    <tr>\n",
       "      <th>0</th>\n",
       "      <td>1</td>\n",
       "      <td>0</td>\n",
       "      <td>3</td>\n",
       "      <td>Braund, Mr. Owen Harris</td>\n",
       "      <td>male</td>\n",
       "      <td>22.0</td>\n",
       "      <td>1</td>\n",
       "      <td>0</td>\n",
       "      <td>A/5 21171</td>\n",
       "      <td>7.2500</td>\n",
       "      <td>NaN</td>\n",
       "      <td>S</td>\n",
       "    </tr>\n",
       "    <tr>\n",
       "      <th>1</th>\n",
       "      <td>2</td>\n",
       "      <td>1</td>\n",
       "      <td>1</td>\n",
       "      <td>Cumings, Mrs. John Bradley (Florence Briggs Th...</td>\n",
       "      <td>female</td>\n",
       "      <td>38.0</td>\n",
       "      <td>1</td>\n",
       "      <td>0</td>\n",
       "      <td>PC 17599</td>\n",
       "      <td>71.2833</td>\n",
       "      <td>C85</td>\n",
       "      <td>C</td>\n",
       "    </tr>\n",
       "    <tr>\n",
       "      <th>2</th>\n",
       "      <td>3</td>\n",
       "      <td>1</td>\n",
       "      <td>3</td>\n",
       "      <td>Heikkinen, Miss. Laina</td>\n",
       "      <td>female</td>\n",
       "      <td>26.0</td>\n",
       "      <td>0</td>\n",
       "      <td>0</td>\n",
       "      <td>STON/O2. 3101282</td>\n",
       "      <td>7.9250</td>\n",
       "      <td>NaN</td>\n",
       "      <td>S</td>\n",
       "    </tr>\n",
       "    <tr>\n",
       "      <th>3</th>\n",
       "      <td>4</td>\n",
       "      <td>1</td>\n",
       "      <td>1</td>\n",
       "      <td>Futrelle, Mrs. Jacques Heath (Lily May Peel)</td>\n",
       "      <td>female</td>\n",
       "      <td>35.0</td>\n",
       "      <td>1</td>\n",
       "      <td>0</td>\n",
       "      <td>113803</td>\n",
       "      <td>53.1000</td>\n",
       "      <td>C123</td>\n",
       "      <td>S</td>\n",
       "    </tr>\n",
       "    <tr>\n",
       "      <th>4</th>\n",
       "      <td>5</td>\n",
       "      <td>0</td>\n",
       "      <td>3</td>\n",
       "      <td>Allen, Mr. William Henry</td>\n",
       "      <td>male</td>\n",
       "      <td>35.0</td>\n",
       "      <td>0</td>\n",
       "      <td>0</td>\n",
       "      <td>373450</td>\n",
       "      <td>8.0500</td>\n",
       "      <td>NaN</td>\n",
       "      <td>S</td>\n",
       "    </tr>\n",
       "  </tbody>\n",
       "</table>\n",
       "</div>"
      ],
      "text/plain": [
       "   PassengerId  Survived  Pclass  \\\n",
       "0            1         0       3   \n",
       "1            2         1       1   \n",
       "2            3         1       3   \n",
       "3            4         1       1   \n",
       "4            5         0       3   \n",
       "\n",
       "                                                Name     Sex   Age  SibSp  \\\n",
       "0                            Braund, Mr. Owen Harris    male  22.0      1   \n",
       "1  Cumings, Mrs. John Bradley (Florence Briggs Th...  female  38.0      1   \n",
       "2                             Heikkinen, Miss. Laina  female  26.0      0   \n",
       "3       Futrelle, Mrs. Jacques Heath (Lily May Peel)  female  35.0      1   \n",
       "4                           Allen, Mr. William Henry    male  35.0      0   \n",
       "\n",
       "   Parch            Ticket     Fare Cabin Embarked  \n",
       "0      0         A/5 21171   7.2500   NaN        S  \n",
       "1      0          PC 17599  71.2833   C85        C  \n",
       "2      0  STON/O2. 3101282   7.9250   NaN        S  \n",
       "3      0            113803  53.1000  C123        S  \n",
       "4      0            373450   8.0500   NaN        S  "
      ]
     },
     "execution_count": 21,
     "metadata": {},
     "output_type": "execute_result"
    }
   ],
   "source": [
    "titanic_dataframe.head()"
   ]
  },
  {
   "cell_type": "code",
   "execution_count": null,
   "id": "bd73f28d-963f-4a1a-a8a5-e9a4161a7417",
   "metadata": {
    "id": "bd73f28d-963f-4a1a-a8a5-e9a4161a7417",
    "outputId": "b167cbc1-6337-4120-9ddf-80457c6ac0c4"
   },
   "outputs": [
    {
     "name": "stdout",
     "output_type": "stream",
     "text": [
      "pd unique Sex:  ['male' 'female']\n",
      "pd unique Embarked:  ['S' 'C' 'Q' nan]\n",
      "np unique Sex:  [0. 1.]\n",
      "np unique Embarked:  [ 0.  1.  2. nan]\n",
      "\n",
      "inputs1 array shape: (891, 5), dtype: float32\n",
      "inputs_sex array shape: (891,), dtype: float32\n",
      "inputs3 array shape: (891,), dtype: float32\n",
      "\n",
      "inputs array shape: (891, 7), dtype: float32\n",
      "labels array shape: (891,), dtype: int32\n"
     ]
    }
   ],
   "source": [
    "\n",
    "print(\"pd unique Sex: \", pd.unique(titanic_dataframe[\"Sex\"]))\n",
    "print(\"pd unique Embarked: \", pd.unique(titanic_dataframe[\"Embarked\"]))\n",
    "\n",
    "inputs1 = titanic_dataframe[[\"Pclass\", \"Age\", \"SibSp\", \"Parch\", \"Fare\"]].to_numpy(dtype=np.float32)\n",
    "inputs_sex = titanic_dataframe[\"Sex\"].astype(\"category\").cat.codes.to_numpy(dtype=np.float32)\n",
    "inputs_emb = titanic_dataframe[\"Embarked\"].astype(\"category\").cat.codes.to_numpy(dtype=np.float32)\n",
    "inputs_emb[inputs_emb == -1] = np.nan    # pandas converts NaNs into '-1' categorical label, now we set them back to NaN\n",
    "\n",
    "print(\"np unique Sex: \", np.unique(inputs_sex))\n",
    "print(\"np unique Embarked: \", np.unique(inputs_emb))\n",
    "print()\n",
    "\n",
    "print(f\"inputs1 array shape: {inputs1.shape}, dtype: {inputs1.dtype}\")\n",
    "print(f\"inputs_sex array shape: {inputs_sex.shape}, dtype: {inputs_sex.dtype}\")\n",
    "print(f\"inputs3 array shape: {inputs_emb.shape}, dtype: {inputs_emb.dtype}\")\n",
    "\n",
    "# to mimic column order of previous dataset loading approaches\n",
    "inputs = np.concatenate([inputs1[:,0,None], inputs_sex[:,None], inputs1[:,1:], inputs_emb[:,None]], axis=1)\n",
    "print(f\"\\ninputs array shape: {inputs.shape}, dtype: {inputs.dtype}\")\n",
    "\n",
    "# Note:\n",
    "#    inputs1[:,0]  -> (n_passengers,)\n",
    "#    inputs1[:,[0]]  -> (n_passengers, 1)   advanced indexing - copy\n",
    "#    inputs1[:,0,None]  -> (n_passengers, 1)   basic indexing - view\n",
    "\n",
    "labels = titanic_dataframe[\"Survived\"].to_numpy(dtype=np.int32)\n",
    "print(f\"labels array shape: {labels.shape}, dtype: {labels.dtype}\")\n",
    "\n"
   ]
  },
  {
   "cell_type": "code",
   "execution_count": null,
   "id": "ea197b29-1add-483b-98f1-a30657c75dbf",
   "metadata": {
    "id": "ea197b29-1add-483b-98f1-a30657c75dbf",
    "outputId": "2056de7d-7ff1-48fb-c39b-c540166463aa"
   },
   "outputs": [
    {
     "name": "stdout",
     "output_type": "stream",
     "text": [
      "inputs array shape: (891, 7), dtype: float32\n",
      "[[ 3.      1.     22.      1.      0.      7.25    2.    ]\n",
      " [ 1.      0.     38.      1.      0.     71.2833  0.    ]\n",
      " [ 3.      0.     26.      0.      0.      7.925   2.    ]\n",
      " [ 1.      0.     35.      1.      0.     53.1     2.    ]\n",
      " [ 3.      1.     35.      0.      0.      8.05    2.    ]]\n",
      "labels array shape: (891,), dtype: int32\n",
      "[0 1 1 1 0]\n"
     ]
    }
   ],
   "source": [
    "\n",
    "print(f\"inputs array shape: {inputs.shape}, dtype: {inputs.dtype}\")\n",
    "print(inputs[:5, :])\n",
    "print(f\"labels array shape: {labels.shape}, dtype: {labels.dtype}\")\n",
    "print(labels[:5])"
   ]
  },
  {
   "cell_type": "markdown",
   "id": "2effcfb0-c35f-4450-9792-d4ff31d6d30c",
   "metadata": {
    "id": "2effcfb0-c35f-4450-9792-d4ff31d6d30c"
   },
   "source": [
    "# Adatexploráció"
   ]
  },
  {
   "cell_type": "code",
   "execution_count": null,
   "id": "25ce8d4d-e884-4a59-bf41-fadcab886678",
   "metadata": {
    "colab": {
     "base_uri": "https://localhost:8080/"
    },
    "id": "25ce8d4d-e884-4a59-bf41-fadcab886678",
    "outputId": "aadeceea-623b-4556-b401-681528c7b2cc"
   },
   "outputs": [
    {
     "name": "stdout",
     "output_type": "stream",
     "text": [
      "A few input examples:\n",
      " [[ 3.      1.     22.      1.      0.      7.25    2.    ]\n",
      " [ 1.      0.     38.      1.      0.     71.2833  0.    ]\n",
      " [ 3.      0.     26.      0.      0.      7.925   2.    ]\n",
      " [ 1.      0.     35.      1.      0.     53.1     2.    ]\n",
      " [ 3.      1.     35.      0.      0.      8.05    2.    ]]\n",
      "A few labels: [0 1 1 1 0]\n",
      "\n",
      "Any NaNs in inputs? True\n",
      "Any NaNs in labels? False\n",
      "Which variables (columns) indices have NaNs in inputs? [2 6]\n",
      "Which variables (columns) by name have NaNs in inputs? ['Age' 'Embarked']\n",
      "How many NaNs are in the input? [  0   0 177   0   0   0   2]\n"
     ]
    }
   ],
   "source": [
    "# NaN values in which columns\n",
    "\n",
    "# inputs: (n_passengers=891, n_variables=7), labels: (n_passengers=891,)\n",
    "\n",
    "print(\"A few input examples:\\n\", inputs[:5,:])\n",
    "print(\"A few labels:\", labels[:5])\n",
    "print()\n",
    "print(\"Any NaNs in inputs?\", np.any(np.isnan(inputs)))\n",
    "print(\"Any NaNs in labels?\", np.any(np.isnan(labels)))\n",
    "\n",
    "print(\"Which variables (columns) indices have NaNs in inputs?\", np.where(np.any(np.isnan(inputs), axis=0))[0])\n",
    "print(\"Which variables (columns) by name have NaNs in inputs?\", input_var_names_objarr[np.any(np.isnan(inputs), axis=0)])\n",
    "\n",
    "print(\"How many NaNs are in the input?\", np.count_nonzero(np.isnan(inputs), axis=0))\n"
   ]
  },
  {
   "cell_type": "code",
   "execution_count": null,
   "id": "8fbe9da8-85db-404d-9025-b5b86b5dc936",
   "metadata": {
    "colab": {
     "base_uri": "https://localhost:8080/",
     "height": 466
    },
    "id": "8fbe9da8-85db-404d-9025-b5b86b5dc936",
    "outputId": "720a92e3-cd22-44dd-83f5-cc16382a043e"
   },
   "outputs": [
    {
     "name": "stdout",
     "output_type": "stream",
     "text": [
      "Column index of 'Pclass' var in dataset: 0\n",
      "Unique 'Pclass' values: [1. 2. 3.] , counts: [216 184 491]\n"
     ]
    },
    {
     "data": {
      "image/png": "[encoded data removed]",
      "text/plain": [
       "<Figure size 640x480 with 1 Axes>"
      ]
     },
     "metadata": {},
     "output_type": "display_data"
    }
   ],
   "source": [
    "# plot distribution of a variable with only a few elements on a barchart (passenger class distribution)\n",
    "import matplotlib.pyplot as plt\n",
    "\n",
    "assert inputs.shape[1] == len(INPUT_VAR_NAMES)\n",
    "pclass_var_idx = INPUT_VAR_NAMES.index('Pclass')\n",
    "print(\"Column index of 'Pclass' var in dataset:\", pclass_var_idx)\n",
    "\n",
    "u_pclass_var_vals, count_pclass_var_vals = np.unique(inputs[:,pclass_var_idx], return_counts=True)\n",
    "print(\"Unique 'Pclass' values:\", u_pclass_var_vals, \", counts:\", count_pclass_var_vals)\n",
    "\n",
    "plt.bar(u_pclass_var_vals, count_pclass_var_vals)\n",
    "plt.show()\n"
   ]
  },
  {
   "cell_type": "code",
   "execution_count": null,
   "id": "57cf3156-bd75-4de1-a2af-4923203b8e08",
   "metadata": {
    "id": "57cf3156-bd75-4de1-a2af-4923203b8e08",
    "outputId": "acc17cce-40a5-4a15-ead9-4cfddb0a6d28"
   },
   "outputs": [
    {
     "name": "stdout",
     "output_type": "stream",
     "text": [
      "Uunique 'Pclass' values for females only: [1. 2. 3.] , counts: [ 94  76 144]\n",
      "Uunique 'Pclass' values for males only: [1. 2. 3.] , counts: [122 108 347]\n"
     ]
    },
    {
     "data": {
      "image/png": "[encoded data removed]",
      "text/plain": [
       "<Figure size 1100x500 with 2 Axes>"
      ]
     },
     "metadata": {},
     "output_type": "display_data"
    }
   ],
   "source": [
    "# Multiple barcharts showing passenger class distribution of males and females separately\n",
    "\n",
    "assert inputs.shape[1] == len(INPUT_VAR_NAMES)\n",
    "pclass_var_idx = INPUT_VAR_NAMES.index('Pclass')    # 1, 2 or 3\n",
    "sex_var_idx = INPUT_VAR_NAMES.index('Sex')          # female: 0, male: 1\n",
    "\n",
    "females_mask = inputs[:, sex_var_idx] == 0\n",
    "\n",
    "u_fem_pclass_var_vals, count_fem_pclass_var_vals = np.unique(inputs[females_mask, pclass_var_idx], return_counts=True)\n",
    "print(\"Uunique 'Pclass' values for females only:\", u_fem_pclass_var_vals, \", counts:\", count_fem_pclass_var_vals)\n",
    "u_male_pclass_var_vals, count_male_pclass_var_vals = np.unique(inputs[~females_mask, pclass_var_idx], return_counts=True)\n",
    "print(\"Uunique 'Pclass' values for males only:\", u_male_pclass_var_vals, \", counts:\", count_male_pclass_var_vals)\n",
    "\n",
    "figure, axes = plt.subplots(nrows=1, ncols=2, sharey=True, figsize=(11,5))\n",
    "axes[0].bar(u_fem_pclass_var_vals, count_fem_pclass_var_vals)\n",
    "axes[0].set_title('Female')\n",
    "axes[1].bar(u_male_pclass_var_vals, count_male_pclass_var_vals)\n",
    "axes[1].set_title('Male')\n",
    "figure.suptitle('Passenger class distributions')\n",
    "plt.show()\n"
   ]
  },
  {
   "cell_type": "code",
   "execution_count": null,
   "id": "41df8af7-1b9c-4e0e-8e70-5167f6cd7c45",
   "metadata": {
    "id": "41df8af7-1b9c-4e0e-8e70-5167f6cd7c45",
    "outputId": "778d235e-01a8-4c5d-88a7-31b1c16c15d6"
   },
   "outputs": [
    {
     "name": "stdout",
     "output_type": "stream",
     "text": [
      "Histogram of age distribution of males who survived:\n",
      "    bin edges: [ 0.42   8.378 16.336 24.294 32.252 40.21  48.168 56.126 64.084 72.042\n",
      " 80.   ]\n",
      "    bin counts: [17  5 11 29 13  9  6  2  0  1]\n",
      "\n"
     ]
    },
    {
     "data": {
      "image/png": "[encoded data removed]",
      "text/plain": [
       "<Figure size 1100x600 with 4 Axes>"
      ]
     },
     "metadata": {},
     "output_type": "display_data"
    }
   ],
   "source": [
    "# histograms to show age distribution of men/women who survived or not survived\n",
    "#     there are a lot of different age values, so counting individual values is not informative\n",
    "#     -> instead count people falling into given age intervals -> histogram\n",
    "\n",
    "assert inputs.shape[1] == len(INPUT_VAR_NAMES)\n",
    "age_var_idx = INPUT_VAR_NAMES.index('Age')\n",
    "sex_var_idx = INPUT_VAR_NAMES.index('Sex')          # female: 0, male: 1\n",
    "\n",
    "females_mask = inputs[:, sex_var_idx] == 0\n",
    "survived_mask = labels == 1\n",
    "\n",
    "min_age, max_age = np.nanmin(inputs[:, age_var_idx]), np.nanmax(inputs[:, age_var_idx])   # ignoring NaNs where age is missing\n",
    "\n",
    "# example histogram: age distribution of males who survived\n",
    "# setting histogram ends explicitly to have similar intervals for each group (alternative: np.histogram_bin_edges)\n",
    "males_survived_mask = ~females_mask & survived_mask\n",
    "hist, bin_edges = np.histogram(inputs[males_survived_mask, age_var_idx], range=(min_age, max_age))\n",
    "\n",
    "print(\"Histogram of age distribution of males who survived:\")\n",
    "print(\"    bin edges:\", bin_edges)\n",
    "print(\"    bin counts:\", hist)\n",
    "print()\n",
    "\n",
    "# (option#1: np.histogram & plt.bar)\n",
    "# option#2: plt.hist\n",
    "\n",
    "age_values_grouped = np.array([[inputs[females_mask & survived_mask, age_var_idx], inputs[~females_mask & survived_mask, age_var_idx]],\n",
    "                               [inputs[females_mask & ~survived_mask, age_var_idx], inputs[~females_mask & ~survived_mask, age_var_idx]]], dtype=object)\n",
    "\n",
    "N_BINS = 10\n",
    "PLOT_TITLE_ROWS = ['Survived', 'Died']\n",
    "PLOT_TITLE_COLS = ['Female', 'Male']\n",
    "\n",
    "fig, axs = plt.subplots(nrows=2, ncols=2, sharey=True, tight_layout=True, figsize=(11,6))\n",
    "fig.suptitle('Age distribution of different passenger groups')\n",
    "for row_idx in range(2):\n",
    "    for col_idx in range(2):\n",
    "        axs[row_idx, col_idx].hist(age_values_grouped[row_idx, col_idx], bins=N_BINS, range=(min_age, max_age))\n",
    "        axs[row_idx, col_idx].set_title(PLOT_TITLE_ROWS[row_idx] + ' & ' + PLOT_TITLE_COLS[col_idx])\n",
    "plt.show()\n",
    "\n"
   ]
  },
  {
   "cell_type": "code",
   "execution_count": null,
   "id": "44b237a8-ac51-4289-bea8-1aba12ac558b",
   "metadata": {
    "id": "44b237a8-ac51-4289-bea8-1aba12ac558b",
    "outputId": "39be8687-6d61-4a43-886b-2657edc2b036"
   },
   "outputs": [
    {
     "data": {
      "image/png": "[encoded data removed]",
      "text/plain": [
       "<Figure size 640x480 with 2 Axes>"
      ]
     },
     "metadata": {},
     "output_type": "display_data"
    }
   ],
   "source": [
    "# Scatter plot of two vars & label: passenger age vs. passenger fare (price of ticket), dots colored according to label\n",
    "\n",
    "assert inputs.shape[1] == len(INPUT_VAR_NAMES)\n",
    "age_var_idx = INPUT_VAR_NAMES.index('Age')\n",
    "fare_var_idx = INPUT_VAR_NAMES.index('Fare')\n",
    "#valid_mask = ~np.isnan(inputs[:, age_var_idx])\n",
    "\n",
    "plt.scatter(inputs[:, age_var_idx], inputs[:, fare_var_idx], c=labels, cmap='viridis', label=labels)\n",
    "plt.colorbar()\n",
    "plt.title('Passengers died/survived given their age and ticket price')\n",
    "plt.grid(True)\n",
    "plt.xlabel('Age')\n",
    "plt.ylabel('Fare')\n",
    "plt.yscale('log')   # logscale on Fare\n",
    "plt.show()\n"
   ]
  },
  {
   "cell_type": "code",
   "execution_count": null,
   "id": "1587bc00-9e76-46bb-972a-51afd55ca44f",
   "metadata": {
    "id": "1587bc00-9e76-46bb-972a-51afd55ca44f",
    "outputId": "cdbe6184-7631-462f-9186-e53eb62f45ec"
   },
   "outputs": [
    {
     "data": {
      "image/png": "[encoded data removed]",
      "text/plain": [
       "<Figure size 640x480 with 1 Axes>"
      ]
     },
     "metadata": {},
     "output_type": "display_data"
    }
   ],
   "source": [
    "# same scatter plot with legend instead of colorbar\n",
    "\n",
    "assert inputs.shape[1] == len(INPUT_VAR_NAMES)\n",
    "age_var_idx = INPUT_VAR_NAMES.index('Age')\n",
    "fare_var_idx = INPUT_VAR_NAMES.index('Fare')\n",
    "survived_mask = labels == 1\n",
    "inputs_survived = inputs[survived_mask, :]\n",
    "inputs_died = inputs[~survived_mask, :]\n",
    "#valid_mask = ~np.isnan(inputs[:, age_var_idx])\n",
    "\n",
    "plt.scatter(inputs_died[:, age_var_idx], inputs_died[:, fare_var_idx], c='red', label='Died')\n",
    "plt.scatter(inputs_survived[:, age_var_idx], inputs_survived[:, fare_var_idx], c='blue', label='Survived')\n",
    "plt.legend()\n",
    "plt.title('Passengers died/survived given their age and ticket price')\n",
    "plt.grid(True)\n",
    "plt.xlabel('Age')\n",
    "plt.ylabel('Fare')\n",
    "plt.yscale('log')   # logscale on Fare\n",
    "plt.show()\n"
   ]
  },
  {
   "cell_type": "code",
   "execution_count": null,
   "id": "091c77a1-9a4d-4fc7-8357-85693128b9b9",
   "metadata": {
    "id": "091c77a1-9a4d-4fc7-8357-85693128b9b9"
   },
   "outputs": [],
   "source": [
    "# Other plot types worth checking:\n",
    "#    plt.plot (line plot, dot plot)\n",
    "#    plt.pcolormesh (heatmap)\n",
    "#    plt.matshow/plt.imshow (2D histogram, heatmap, confusion matrix, etc.)"
   ]
  },
  {
   "cell_type": "markdown",
   "id": "ffc8bd6a-693b-4009-abfd-cd1fb575946a",
   "metadata": {
    "id": "ffc8bd6a-693b-4009-abfd-cd1fb575946a"
   },
   "source": [
    "# Adat előfeldolgozás"
   ]
  },
  {
   "cell_type": "code",
   "execution_count": null,
   "id": "b924f8ac-843e-48b9-b416-185ef47f0b28",
   "metadata": {
    "id": "b924f8ac-843e-48b9-b416-185ef47f0b28"
   },
   "outputs": [],
   "source": [
    "# filtering NaNs, option #1: drop data points with NaNs\n",
    "#     alternative: drop columns with NaNs, or a combination\n",
    "\n",
    "def filtering_option1(inputs, labels):\n",
    "    passengers_with_nan = np.any(np.isnan(inputs), axis=1)\n",
    "    inputs = inputs[~passengers_with_nan, :]\n",
    "    labels = labels[~passengers_with_nan]\n",
    "\n",
    "    print(f\"inputs array shape: {inputs.shape}, dtype: {inputs.dtype}\")\n",
    "    print(f\"labels array shape: {labels.shape}, dtype: {labels.dtype}\")\n",
    "\n",
    "    print(\"Which variables (columns) have NaNs in inputs?\", np.where(np.any(np.isnan(inputs), axis=0))[0])\n",
    "    print(\"How many NaNs are in the input?\", np.count_nonzero(np.isnan(inputs), axis=0))\n",
    "\n",
    "    return inputs, labels\n"
   ]
  },
  {
   "cell_type": "code",
   "execution_count": null,
   "id": "a6e043a2-56c4-4351-9859-d8d9682a4789",
   "metadata": {
    "id": "a6e043a2-56c4-4351-9859-d8d9682a4789"
   },
   "outputs": [],
   "source": [
    "# filtering NaNs, option #2: replace NaNs with fake data\n",
    "#    replacing age -> with mean age\n",
    "#    replacing embarked -> with new categorical label: 3 (already existing: 0, 1, 2)\n",
    "#    (other options:\n",
    "#         - replace with median\n",
    "#         - create new flag variables for each var that indicates whether value originally had NaN there\n",
    "#     )\n",
    "\n",
    "def filtering_option2(inputs, labels):\n",
    "    #    replacing age -> with mean age\n",
    "    mean_age = np.nanmean(inputs[:,2])\n",
    "    inputs[np.isnan(inputs[:,2]), 2] = mean_age\n",
    "\n",
    "    #    replacing embarked -> with new categorical label: 3 (already existing: 0, 1, 2)\n",
    "    inputs[np.isnan(inputs[:,6]), 6] = 3\n",
    "\n",
    "    print(\"mean_age: \", mean_age)\n",
    "    print(\"np unique & count Embarked: \", np.unique(inputs[:,6], return_counts=True))\n",
    "\n",
    "    print(f\"inputs array shape: {inputs.shape}, dtype: {inputs.dtype}\")\n",
    "    print(f\"labels array shape: {labels.shape}, dtype: {labels.dtype}\")\n",
    "\n",
    "    print(\"Which variables (columns) have NaNs in inputs?\", np.where(np.any(np.isnan(inputs), axis=0))[0])\n",
    "    print(\"How many NaNs are in the input?\", np.count_nonzero(np.isnan(inputs), axis=0))\n",
    "    return inputs, labels\n"
   ]
  },
  {
   "cell_type": "code",
   "execution_count": null,
   "id": "d1839920-0e06-4808-b4b5-be4fb0c7c1a6",
   "metadata": {
    "colab": {
     "base_uri": "https://localhost:8080/"
    },
    "id": "d1839920-0e06-4808-b4b5-be4fb0c7c1a6",
    "outputId": "f57493d7-7cc3-4bb2-bcd7-d75bcdb05ff0"
   },
   "outputs": [
    {
     "name": "stdout",
     "output_type": "stream",
     "text": [
      "mean_age:  29.699118\n",
      "np unique & count Embarked:  (array([0., 1., 2., 3.], dtype=float32), array([168,  77, 644,   2]))\n",
      "inputs array shape: (891, 7), dtype: float32\n",
      "labels array shape: (891,), dtype: int32\n",
      "Which variables (columns) have NaNs in inputs? []\n",
      "How many NaNs are in the input? [0 0 0 0 0 0 0]\n"
     ]
    }
   ],
   "source": [
    "FILTERING_TO_USE = 'option2'\n",
    "assert FILTERING_TO_USE in ['option1', 'option2']\n",
    "\n",
    "if FILTERING_TO_USE == 'option1':\n",
    "    inputs, labels = filtering_option1(inputs, labels)\n",
    "elif FILTERING_TO_USE == 'option2':\n",
    "    inputs, labels = filtering_option2(inputs, labels)\n"
   ]
  },
  {
   "cell_type": "code",
   "execution_count": null,
   "id": "1b279c19-9d71-4216-bd30-a06603d1d9a6",
   "metadata": {
    "colab": {
     "base_uri": "https://localhost:8080/"
    },
    "id": "1b279c19-9d71-4216-bd30-a06603d1d9a6",
    "outputId": "e06bc6cd-d693-4a4a-ab00-603e257f7575"
   },
   "outputs": [
    {
     "name": "stdout",
     "output_type": "stream",
     "text": [
      "inputs array shape: (891, 7), dtype: float32\n",
      "[[ 3.      1.     22.      1.      0.      7.25    2.    ]\n",
      " [ 1.      0.     38.      1.      0.     71.2833  0.    ]\n",
      " [ 3.      0.     26.      0.      0.      7.925   2.    ]\n",
      " [ 1.      0.     35.      1.      0.     53.1     2.    ]\n",
      " [ 3.      1.     35.      0.      0.      8.05    2.    ]]\n",
      "\n",
      "np unique & count Embarked:  (array([0., 1., 2., 3.], dtype=float32), array([168,  77, 644,   2]))\n",
      "max of Embarked:  3.0\n",
      "\n",
      "Modified inputs array shape: (891, 10), dtype: float32\n",
      "[[ 3.      1.     22.      1.      0.      7.25    0.      0.      1.\n",
      "   0.    ]\n",
      " [ 1.      0.     38.      1.      0.     71.2833  1.      0.      0.\n",
      "   0.    ]\n",
      " [ 3.      0.     26.      0.      0.      7.925   0.      0.      1.\n",
      "   0.    ]\n",
      " [ 1.      0.     35.      1.      0.     53.1     0.      0.      1.\n",
      "   0.    ]\n",
      " [ 3.      1.     35.      0.      0.      8.05    0.      0.      1.\n",
      "   0.    ]]\n"
     ]
    }
   ],
   "source": [
    "# convert categorical input variables to one-hot vectors (vars only where categories are not ordered in any way)\n",
    "#    only non-ordered categorical var: \"Embarked\"\n",
    "#    many different methods exist to create one-hot vectors: a few can be found in the numpy tutorial guide -> exercises\n",
    "\n",
    "assert inputs.shape[1] == 7, \"Run 'inputs' array creation above first...\"\n",
    "print(f\"inputs array shape: {inputs.shape}, dtype: {inputs.dtype}\")\n",
    "print(inputs[:5, :])\n",
    "\n",
    "print(\"\\nnp unique & count Embarked: \", np.unique(inputs[:,6], return_counts=True))\n",
    "max_embarked_cat_val = np.amax(inputs[:,6])\n",
    "print(\"max of Embarked: \", max_embarked_cat_val)\n",
    "\n",
    "n_passengers = inputs.shape[0]\n",
    "embarked_onehot = np.zeros((n_passengers, int(max_embarked_cat_val)+1), dtype=np.float32)\n",
    "embarked_onehot[np.arange(n_passengers), inputs[:,6].astype(np.int32)] = 1\n",
    "inputs = np.concatenate([inputs[:,:-1], embarked_onehot], axis=1)     # removing original Embarked column\n",
    "\n",
    "print(f\"\\nModified inputs array shape: {inputs.shape}, dtype: {inputs.dtype}\")\n",
    "print(inputs[:5, :])\n"
   ]
  },
  {
   "cell_type": "code",
   "execution_count": null,
   "id": "1018c68a-c25b-410a-b56c-22025297d8b2",
   "metadata": {
    "id": "1018c68a-c25b-410a-b56c-22025297d8b2"
   },
   "outputs": [],
   "source": [
    "# random shuffling dataset might be needed if not done later: dataset can be ordered/grouped by labels"
   ]
  },
  {
   "cell_type": "code",
   "execution_count": null,
   "id": "982ae0ce-5e19-4983-8693-a8b7f9dccc09",
   "metadata": {
    "colab": {
     "base_uri": "https://localhost:8080/"
    },
    "id": "982ae0ce-5e19-4983-8693-a8b7f9dccc09",
    "outputId": "efa895a8-4252-4852-a54a-fc2773d63c86"
   },
   "outputs": [
    {
     "name": "stdout",
     "output_type": "stream",
     "text": [
      "np bincount labels:  [549 342]\n"
     ]
    }
   ],
   "source": [
    "# balancing dataset by labels (omitted here)\n",
    "#    option#1 - undersampling (NOT IDEAL): find label category with fewest examples, drop examples from all other categories to have equal number of examples for each category\n",
    "#    option#2 - oversampling: find label category with most examples, randomly duplicate examples from all other categories to have equal number of examples for each category\n",
    "#    option#3 (implemented at neural network training) - weigh each category differently in the loss function\n",
    "\n",
    "print(\"np bincount labels: \", np.bincount(labels))\n"
   ]
  },
  {
   "cell_type": "code",
   "execution_count": null,
   "id": "7b6117ee-6bb4-4002-bcd2-2c41b640e23b",
   "metadata": {
    "colab": {
     "base_uri": "https://localhost:8080/"
    },
    "id": "7b6117ee-6bb4-4002-bcd2-2c41b640e23b",
    "outputId": "1b6cb6b9-1431-494c-df2d-c821ff18acd5"
   },
   "outputs": [
    {
     "name": "stdout",
     "output_type": "stream",
     "text": [
      "Training inputs shape: (534, 10), labels shape: (534,)\n",
      "Validation inputs shape: (178, 10), labels shape: (178,)\n",
      "Test inputs shape: (179, 10), labels shape: (179,)\n"
     ]
    }
   ],
   "source": [
    "# dataset split through basic indexing\n",
    "#    alternative: scikit-learn - sklearn.model_selection.train_test_split\n",
    "TRAINING_SET_RATIO = 0.6\n",
    "VALIDATION_SET_RATIO = 0.2\n",
    "assert TRAINING_SET_RATIO + VALIDATION_SET_RATIO < 1\n",
    "\n",
    "n_training_samples = int(inputs.shape[0] * TRAINING_SET_RATIO)\n",
    "n_validation_samples = int(inputs.shape[0] * VALIDATION_SET_RATIO)\n",
    "validation_offset = n_training_samples\n",
    "test_offset = n_training_samples + n_validation_samples\n",
    "\n",
    "inputs_train = inputs[:validation_offset, :]\n",
    "labels_train = labels[:validation_offset]\n",
    "inputs_val = inputs[validation_offset:test_offset, :]\n",
    "labels_val = labels[validation_offset:test_offset]\n",
    "inputs_test = inputs[test_offset:, :]\n",
    "labels_test = labels[test_offset:]\n",
    "\n",
    "print(f\"Training inputs shape: {inputs_train.shape}, labels shape: {labels_train.shape}\")\n",
    "print(f\"Validation inputs shape: {inputs_val.shape}, labels shape: {labels_val.shape}\")\n",
    "print(f\"Test inputs shape: {inputs_test.shape}, labels shape: {labels_test.shape}\")\n"
   ]
  },
  {
   "cell_type": "code",
   "execution_count": null,
   "id": "56b744a1-39c1-4bd5-9e88-91ac16f74643",
   "metadata": {
    "colab": {
     "base_uri": "https://localhost:8080/"
    },
    "id": "56b744a1-39c1-4bd5-9e88-91ac16f74643",
    "outputId": "a05b6534-efc9-4719-fc3a-2a0fc633085a"
   },
   "outputs": [
    {
     "name": "stdout",
     "output_type": "stream",
     "text": [
      "np bincount labels_train:  [327 207]\n",
      "np bincount labels_val:  [107  71]\n",
      "np bincount labels_test:  [115  64]\n"
     ]
    }
   ],
   "source": [
    "# check if shuffling was needed (randomly reordering the data points)\n",
    "\n",
    "print(\"np bincount labels_train: \", np.bincount(labels_train))\n",
    "print(\"np bincount labels_val: \", np.bincount(labels_val))\n",
    "print(\"np bincount labels_test: \", np.bincount(labels_test))\n",
    "\n",
    "# Approximately similar ratios, so we skip now, but generally you need to shuffle the data (inputs together with labels)\n",
    "#    e.g., generate random permutation and advanced indexing on both the inputs axis#0, both  the labels\n"
   ]
  },
  {
   "cell_type": "code",
   "execution_count": null,
   "id": "e859c503-ce94-4df3-8228-ad3388b04826",
   "metadata": {
    "colab": {
     "base_uri": "https://localhost:8080/"
    },
    "id": "e859c503-ce94-4df3-8228-ad3388b04826",
    "outputId": "d9ed17e3-277c-418b-920d-1de197effff0"
   },
   "outputs": [
    {
     "name": "stdout",
     "output_type": "stream",
     "text": [
      "Training set var minimums: [1.   0.   0.75 0.   0.   0.   0.   0.   0.   0.  ]\n",
      "Training set var maximums: [  3.       1.      71.       8.       5.     512.3292   1.       1.\n",
      "   1.       1.    ]\n"
     ]
    }
   ],
   "source": [
    "# normalize inputs to avoid big differences in variable magnitudes (min-max scaling to [0,1])\n",
    "#    alternative: standardization (mean-std scaling)\n",
    "#    alternative: scikit-learn - sklearn.preprocessing.MinMaxScaler\n",
    "# MUST BE AFTER TRAIN-VAL-TEST split as we shouldn't have access to test data statistics\n",
    "#     -> computing scaling factors only on training set\n",
    "\n",
    "inputs_min = np.amin(inputs_train, axis=0)   # (n_vars,)\n",
    "inputs_max = np.amax(inputs_train, axis=0)   # (n_vars,)\n",
    "print(\"Training set var minimums:\", inputs_min)\n",
    "print(\"Training set var maximums:\", inputs_max)\n",
    "\n",
    "def minmax_scale_to_0_1(input_arr, var_mins, var_maxs):\n",
    "    # input_arr: (n_examples, n_vars), var_mins: (n_vars,), var_maxs: (n_vars,)\n",
    "    #assert input_arr.ndim == 2\n",
    "    #assert var_mins.shape[0] == var_maxs.shape[0] == input_arr.shape[1]\n",
    "    assert var_mins.shape == var_maxs.shape == input_arr.shape[1:]\n",
    "    EPS = 1e-10                                # avoiding division by zero\n",
    "    return (input_arr - var_mins)/(var_maxs - var_mins + EPS)\n",
    "\n",
    "inputs_train = minmax_scale_to_0_1(inputs_train, inputs_min, inputs_max)\n",
    "inputs_val = minmax_scale_to_0_1(inputs_val, inputs_min, inputs_max)\n",
    "inputs_test = minmax_scale_to_0_1(inputs_test, inputs_min, inputs_max)\n"
   ]
  },
  {
   "cell_type": "markdown",
   "id": "24c9ca11-1c12-4e69-9adf-c5ff49e256ae",
   "metadata": {
    "id": "24c9ca11-1c12-4e69-9adf-c5ff49e256ae"
   },
   "source": [
    "# Neuronháló definiálása bináris klasszifikációs feladatra"
   ]
  },
  {
   "cell_type": "code",
   "execution_count": null,
   "id": "769b8a07-bade-4fd8-b283-bbbffd93548a",
   "metadata": {
    "id": "769b8a07-bade-4fd8-b283-bbbffd93548a"
   },
   "outputs": [],
   "source": [
    "# nn.Module implementation of a logistic regression (neural network with 1 layer and 1 neuron within)\n",
    "\n",
    "import torch.nn as nn\n",
    "\n",
    "class LogRegModel(nn.Module):\n",
    "\n",
    "  def __init__(self, input_dim):\n",
    "        super().__init__()\n",
    "        self.layers = nn.Sequential(   # option#1 put all layers/operations into a Sequential (nn.Module subclass type)\n",
    "            nn.Linear(input_dim, 1),\n",
    "            nn.Sigmoid()\n",
    "        )\n",
    "\n",
    "  def forward(self, x):\n",
    "      return self.layers(x)\n"
   ]
  },
  {
   "cell_type": "code",
   "execution_count": null,
   "id": "66e7f4d5-0e74-4483-a7b1-2830a0d24c2f",
   "metadata": {
    "id": "66e7f4d5-0e74-4483-a7b1-2830a0d24c2f"
   },
   "outputs": [],
   "source": [
    "# nn.Module implementation of a small MLP for binary classification\n",
    "\n",
    "class MLPBinClassifierModel(nn.Module):\n",
    "\n",
    "  def __init__(self, input_dim):\n",
    "        super().__init__()\n",
    "        self.layers = nn.Sequential(   # option#1 put all layers/operations into a Sequential (nn.Module subclass type)\n",
    "            nn.Linear(input_dim, 30),\n",
    "            nn.ReLU(),\n",
    "            nn.Linear(30, 20),\n",
    "            nn.ReLU(),\n",
    "            nn.Linear(20, 1),\n",
    "            nn.Sigmoid()\n",
    "        )\n",
    "\n",
    "  # Regression: no activation function at end\n",
    "  # Binary classification: Sigmoid at end\n",
    "  # Multi-class classification: no activation function at end ONLY IN PYTORCH (Softmax is included in CELoss)\n",
    "\n",
    "  def forward(self, x):\n",
    "      return self.layers(x)\n"
   ]
  },
  {
   "cell_type": "code",
   "execution_count": null,
   "id": "775cbfa1-4f81-40bd-96c2-29b0aec0d740",
   "metadata": {
    "id": "775cbfa1-4f81-40bd-96c2-29b0aec0d740"
   },
   "outputs": [],
   "source": [
    "# nn.Module implementation of a small MLP for binary classification\n",
    "# Same functionality but alternative implementation: not using nn.Sequential\n",
    "#    and only placing layers with parameters in constructor\n",
    "#    using functional version of ops in forward()\n",
    "\n",
    "class MLPBinClassifierModel(nn.Module):\n",
    "\n",
    "  def __init__(self, input_dim):\n",
    "        super().__init__()\n",
    "        self.linear1 = nn.Linear(input_dim, 30)   # option#2 list parametric layers individually here; no need for non-parametric ops\n",
    "        self.linear2 = nn.Linear(30, 20)\n",
    "        self.linear3 = nn.Linear(20, 1)\n",
    "\n",
    "  # Regression: no activation function at end\n",
    "  # Binary classification: Sigmoid at end\n",
    "  # Multi-class classification: no activation function at end ONLY IN PYTORCH (Softmax is included in CELoss)\n",
    "\n",
    "  def forward(self, x):\n",
    "      h = self.linear1(x)\n",
    "      h = nn.functional.relu(h)\n",
    "      h = self.linear2(h)\n",
    "      h = nn.functional.relu(h)\n",
    "      h = self.linear3(h)\n",
    "      h = nn.functional.sigmoid(h)\n",
    "      return h\n"
   ]
  },
  {
   "cell_type": "code",
   "execution_count": null,
   "id": "662be660-4e8e-412e-81c2-16eb92464222",
   "metadata": {
    "id": "662be660-4e8e-412e-81c2-16eb92464222"
   },
   "outputs": [],
   "source": [
    "MODEL_TO_USE = 'mlp'\n",
    "assert MODEL_TO_USE in ['logreg', 'mlp']\n",
    "\n",
    "if MODEL_TO_USE == 'logreg':\n",
    "    bincl_model = LogRegModel(input_dim=inputs_train.shape[1])\n",
    "elif MODEL_TO_USE == 'mlp':\n",
    "    bincl_model = MLPBinClassifierModel(input_dim=inputs_train.shape[1])\n"
   ]
  },
  {
   "cell_type": "markdown",
   "id": "0a8ab40e-b1b6-43f2-9f67-216fca8f750f",
   "metadata": {
    "id": "0a8ab40e-b1b6-43f2-9f67-216fca8f750f"
   },
   "source": [
    "# Neuronháló betanítása"
   ]
  },
  {
   "cell_type": "code",
   "execution_count": null,
   "id": "fd9390a9-1b7d-49da-ae98-67e2bf96269a",
   "metadata": {
    "id": "fd9390a9-1b7d-49da-ae98-67e2bf96269a"
   },
   "outputs": [],
   "source": [
    "# convert numpy arrays to torch tensors\n",
    "inputs_train_t = torch.tensor(inputs_train, dtype=torch.float32)\n",
    "inputs_val_t = torch.tensor(inputs_val, dtype=torch.float32)\n",
    "inputs_test_t = torch.tensor(inputs_test, dtype=torch.float32)\n",
    "labels_train_t = torch.tensor(labels_train, dtype=torch.float32)\n",
    "labels_val_t = torch.tensor(labels_val, dtype=torch.float32)\n",
    "labels_test_t = torch.tensor(labels_test, dtype=torch.float32)\n",
    "\n",
    "# (true) labels dtypes:\n",
    "# Regression: float32 (coninuous values)\n",
    "# Binary classification: float32 (probability)\n",
    "# Multi-class classification: int64 (category indices for CELoss)\n"
   ]
  },
  {
   "cell_type": "code",
   "execution_count": null,
   "id": "12e82158-625a-4757-bc99-d5995cbf7c24",
   "metadata": {
    "id": "12e82158-625a-4757-bc99-d5995cbf7c24"
   },
   "outputs": [],
   "source": [
    "# TODO show what happens if not similar shape - bad broadcasting to (batch_size, batch_size)\n",
    "\n",
    "@torch.no_grad()\n",
    "def bin_acc_fn(y_hat, y_true):                                 # accuracy metric only suitable for binary classification\n",
    "    # y_hat: (batch_size, 1) single probability, y_true: (batch_size, 1) float32 in {0,1}\n",
    "    assert y_hat.shape == y_true.shape\n",
    "    return torch.count_nonzero(torch.round(y_hat) == y_true) / y_hat.shape[0]\n"
   ]
  },
  {
   "cell_type": "markdown",
   "id": "af930328-094e-40ea-a96f-b0ccc20b4356",
   "metadata": {
    "id": "af930328-094e-40ea-a96f-b0ccc20b4356"
   },
   "source": [
    "## Ciklusos mini-batch iteráció"
   ]
  },
  {
   "cell_type": "code",
   "execution_count": null,
   "id": "2668ff4c-b244-40cd-a08f-e2a83b5dff02",
   "metadata": {
    "colab": {
     "base_uri": "https://localhost:8080/",
     "height": 1000
    },
    "id": "2668ff4c-b244-40cd-a08f-e2a83b5dff02",
    "outputId": "fc02d175-2db2-4957-9bcd-adfd560c083c"
   },
   "outputs": [
    {
     "name": "stdout",
     "output_type": "stream",
     "text": [
      "Epoch #0, tr loss: 0.6869452595710754, val loss: 0.6699594855308533, tr acc: 0.5561497807502747, val acc: 0.7598379254341125\n",
      "    Early stopping: Best model updated.\n",
      "Epoch #1, tr loss: 0.6520959138870239, val loss: 0.6421172022819519, tr acc: 0.7057152390480042, val acc: 0.6527777910232544\n",
      "    Early stopping: Best model updated.\n",
      "Epoch #2, tr loss: 0.6234089136123657, val loss: 0.6222352385520935, tr acc: 0.6450534462928772, val acc: 0.631944477558136\n",
      "    Early stopping: Best model updated.\n",
      "Epoch #3, tr loss: 0.601712167263031, val loss: 0.6072831153869629, tr acc: 0.6514037847518921, val acc: 0.6579861044883728\n",
      "    Early stopping: Best model updated.\n",
      "Epoch #4, tr loss: 0.581872284412384, val loss: 0.5907213091850281, tr acc: 0.678810179233551, val acc: 0.6487268805503845\n",
      "    Early stopping: Best model updated.\n",
      "Epoch #5, tr loss: 0.5584434866905212, val loss: 0.5706809163093567, tr acc: 0.6980280876159668, val acc: 0.7089120745658875\n",
      "    Early stopping: Best model updated.\n",
      "Epoch #6, tr loss: 0.532170832157135, val loss: 0.5515329837799072, tr acc: 0.7932820916175842, val acc: 0.7337962985038757\n",
      "    Early stopping: Best model updated.\n",
      "Epoch #7, tr loss: 0.5080546140670776, val loss: 0.5377570986747742, tr acc: 0.8116644620895386, val acc: 0.7390046119689941\n",
      "    Early stopping: Best model updated.\n",
      "Epoch #8, tr loss: 0.4892137050628662, val loss: 0.5303903222084045, tr acc: 0.8024733066558838, val acc: 0.7390046119689941\n",
      "    Early stopping: Best model updated.\n",
      "Epoch #9, tr loss: 0.4763104021549225, val loss: 0.5276350378990173, tr acc: 0.8024733066558838, val acc: 0.7390046119689941\n",
      "    Early stopping: Best model updated.\n",
      "Epoch #10, tr loss: 0.46810004115104675, val loss: 0.5270968079566956, tr acc: 0.8024733066558838, val acc: 0.7442129254341125\n",
      "    Early stopping: Best model updated.\n",
      "Epoch #11, tr loss: 0.46256959438323975, val loss: 0.5261179208755493, tr acc: 0.8024733066558838, val acc: 0.7442129254341125\n",
      "    Early stopping: Best model updated.\n",
      "Epoch #12, tr loss: 0.4586864113807678, val loss: 0.5249481201171875, tr acc: 0.8024733066558838, val acc: 0.7442129254341125\n",
      "    Early stopping: Best model updated.\n",
      "Epoch #13, tr loss: 0.45556947588920593, val loss: 0.523312509059906, tr acc: 0.8024733066558838, val acc: 0.7442129254341125\n",
      "    Early stopping: Best model updated.\n",
      "Epoch #14, tr loss: 0.4527447819709778, val loss: 0.521467387676239, tr acc: 0.8043115139007568, val acc: 0.7442129254341125\n",
      "    Early stopping: Best model updated.\n",
      "Epoch #15, tr loss: 0.4502253234386444, val loss: 0.5196951031684875, tr acc: 0.8043115139007568, val acc: 0.7442129254341125\n",
      "    Early stopping: Best model updated.\n",
      "Epoch #16, tr loss: 0.4479087293148041, val loss: 0.5180801153182983, tr acc: 0.8043115139007568, val acc: 0.7442129254341125\n",
      "    Early stopping: Best model updated.\n",
      "Epoch #17, tr loss: 0.44575461745262146, val loss: 0.5165807604789734, tr acc: 0.8043115139007568, val acc: 0.7442129254341125\n",
      "    Early stopping: Best model updated.\n",
      "Epoch #18, tr loss: 0.44381803274154663, val loss: 0.5150623917579651, tr acc: 0.8043115139007568, val acc: 0.7442129254341125\n",
      "    Early stopping: Best model updated.\n",
      "Epoch #19, tr loss: 0.4420752227306366, val loss: 0.5137608647346497, tr acc: 0.8079879879951477, val acc: 0.7442129254341125\n",
      "    Early stopping: Best model updated.\n",
      "Epoch #20, tr loss: 0.4404752254486084, val loss: 0.5129077434539795, tr acc: 0.8079879879951477, val acc: 0.7442129254341125\n",
      "    Early stopping: Best model updated.\n",
      "Epoch #21, tr loss: 0.43899133801460266, val loss: 0.5118791460990906, tr acc: 0.8079879879951477, val acc: 0.7494212985038757\n",
      "    Early stopping: Best model updated.\n",
      "Epoch #22, tr loss: 0.4376314878463745, val loss: 0.5111661553382874, tr acc: 0.8079879879951477, val acc: 0.7546296119689941\n",
      "    Early stopping: Best model updated.\n",
      "Epoch #23, tr loss: 0.4363548159599304, val loss: 0.5107312798500061, tr acc: 0.8079879879951477, val acc: 0.7546296119689941\n",
      "    Early stopping: Best model updated.\n",
      "Epoch #24, tr loss: 0.43516865372657776, val loss: 0.5102116465568542, tr acc: 0.8079879879951477, val acc: 0.7546296119689941\n",
      "    Early stopping: Best model updated.\n",
      "Epoch #25, tr loss: 0.43397241830825806, val loss: 0.5096218585968018, tr acc: 0.8116644620895386, val acc: 0.7546296119689941\n",
      "    Early stopping: Best model updated.\n",
      "Epoch #26, tr loss: 0.432887464761734, val loss: 0.5092290043830872, tr acc: 0.8135027289390564, val acc: 0.7494212985038757\n",
      "    Early stopping: Best model updated.\n",
      "Epoch #27, tr loss: 0.43185290694236755, val loss: 0.508876621723175, tr acc: 0.8153409361839294, val acc: 0.7442129254341125\n",
      "    Early stopping: Best model updated.\n",
      "Epoch #28, tr loss: 0.4308326244354248, val loss: 0.5085868835449219, tr acc: 0.8116644620895386, val acc: 0.7442129254341125\n",
      "    Early stopping: Best model updated.\n",
      "Epoch #29, tr loss: 0.4299308955669403, val loss: 0.5083836913108826, tr acc: 0.8135027289390564, val acc: 0.7442129254341125\n",
      "    Early stopping: Best model updated.\n",
      "Epoch #30, tr loss: 0.4290503263473511, val loss: 0.507880449295044, tr acc: 0.8171792030334473, val acc: 0.7442129254341125\n",
      "    Early stopping: Best model updated.\n",
      "Epoch #31, tr loss: 0.42827901244163513, val loss: 0.507999837398529, tr acc: 0.8171792030334473, val acc: 0.7494212985038757\n",
      "Epoch #32, tr loss: 0.42747634649276733, val loss: 0.5078763365745544, tr acc: 0.8171792030334473, val acc: 0.7494212985038757\n",
      "    Early stopping: Best model updated.\n",
      "Epoch #33, tr loss: 0.42671969532966614, val loss: 0.5079138278961182, tr acc: 0.8171792030334473, val acc: 0.7546296119689941\n",
      "Epoch #34, tr loss: 0.42598506808280945, val loss: 0.5079235434532166, tr acc: 0.8171792030334473, val acc: 0.7546296119689941\n",
      "Epoch #35, tr loss: 0.4252961575984955, val loss: 0.5078968405723572, tr acc: 0.8153409361839294, val acc: 0.7546296119689941\n",
      "Epoch #36, tr loss: 0.42463424801826477, val loss: 0.5077643990516663, tr acc: 0.8190174102783203, val acc: 0.7546296119689941\n",
      "    Early stopping: Best model updated.\n",
      "Epoch #37, tr loss: 0.4239939749240875, val loss: 0.5079331994056702, tr acc: 0.8190174102783203, val acc: 0.7546296119689941\n",
      "Epoch #38, tr loss: 0.4233974516391754, val loss: 0.5081403851509094, tr acc: 0.8190174102783203, val acc: 0.7546296119689941\n",
      "Epoch #39, tr loss: 0.4228079915046692, val loss: 0.5083857178688049, tr acc: 0.8208556175231934, val acc: 0.7546296119689941\n",
      "Epoch #40, tr loss: 0.4222961664199829, val loss: 0.508524477481842, tr acc: 0.8208556175231934, val acc: 0.7546296119689941\n",
      "Epoch #41, tr loss: 0.42176443338394165, val loss: 0.50881028175354, tr acc: 0.8226938843727112, val acc: 0.7546296119689941\n",
      "Epoch #42, tr loss: 0.42126837372779846, val loss: 0.5091875195503235, tr acc: 0.8226938843727112, val acc: 0.7546296119689941\n",
      "Epoch #43, tr loss: 0.4207836091518402, val loss: 0.5090910792350769, tr acc: 0.8226938843727112, val acc: 0.7546296119689941\n",
      "Epoch #44, tr loss: 0.42031824588775635, val loss: 0.5093020796775818, tr acc: 0.8245320916175842, val acc: 0.7546296119689941\n",
      "Epoch #45, tr loss: 0.4198583960533142, val loss: 0.509227454662323, tr acc: 0.8245320916175842, val acc: 0.7546296119689941\n",
      "Epoch #46, tr loss: 0.4194057285785675, val loss: 0.5092542767524719, tr acc: 0.8245320916175842, val acc: 0.7546296119689941\n",
      "Epoch #47, tr loss: 0.4189743399620056, val loss: 0.5093742609024048, tr acc: 0.8245320916175842, val acc: 0.7546296119689941\n",
      "Epoch #48, tr loss: 0.4185445010662079, val loss: 0.5093762874603271, tr acc: 0.8245320916175842, val acc: 0.7546296119689941\n",
      "Epoch #49, tr loss: 0.41814398765563965, val loss: 0.5094652771949768, tr acc: 0.8226938843727112, val acc: 0.7546296119689941\n",
      "Epoch #50, tr loss: 0.41773977875709534, val loss: 0.5094234347343445, tr acc: 0.8226938843727112, val acc: 0.7546296119689941\n",
      "Epoch #51, tr loss: 0.417367160320282, val loss: 0.5097972750663757, tr acc: 0.8226938843727112, val acc: 0.7546296119689941\n",
      "Epoch #52, tr loss: 0.41698578000068665, val loss: 0.5098581910133362, tr acc: 0.8226938843727112, val acc: 0.7546296119689941\n",
      "Epoch #53, tr loss: 0.416630357503891, val loss: 0.5100338459014893, tr acc: 0.8226938843727112, val acc: 0.7546296119689941\n",
      "Epoch #54, tr loss: 0.416270911693573, val loss: 0.510204017162323, tr acc: 0.8226938843727112, val acc: 0.7546296119689941\n",
      "Epoch #55, tr loss: 0.4159209728240967, val loss: 0.5102887153625488, tr acc: 0.8245320916175842, val acc: 0.7546296119689941\n",
      "Epoch #56, tr loss: 0.41560065746307373, val loss: 0.5106019973754883, tr acc: 0.8245320916175842, val acc: 0.7546296119689941\n",
      "Epoch #57, tr loss: 0.4152697026729584, val loss: 0.5108216404914856, tr acc: 0.8245320916175842, val acc: 0.7546296119689941\n",
      "Epoch #58, tr loss: 0.41496264934539795, val loss: 0.5108435750007629, tr acc: 0.826370358467102, val acc: 0.7546296119689941\n",
      "Epoch #59, tr loss: 0.4146622121334076, val loss: 0.5109289288520813, tr acc: 0.8282085657119751, val acc: 0.7546296119689941\n",
      "Epoch #60, tr loss: 0.4143489599227905, val loss: 0.5107956528663635, tr acc: 0.8282085657119751, val acc: 0.7546296119689941\n",
      "Epoch #61, tr loss: 0.41406840085983276, val loss: 0.5109893679618835, tr acc: 0.8282085657119751, val acc: 0.7650462985038757\n",
      "Epoch #62, tr loss: 0.4137798845767975, val loss: 0.5111215114593506, tr acc: 0.8282085657119751, val acc: 0.7650462985038757\n",
      "Epoch #63, tr loss: 0.41350623965263367, val loss: 0.5111109614372253, tr acc: 0.8282085657119751, val acc: 0.7650462985038757\n",
      "Epoch #64, tr loss: 0.41323673725128174, val loss: 0.5112562775611877, tr acc: 0.826370358467102, val acc: 0.7702546119689941\n",
      "Epoch #65, tr loss: 0.41296085715293884, val loss: 0.5114306807518005, tr acc: 0.826370358467102, val acc: 0.7702546119689941\n",
      "Epoch #66, tr loss: 0.4127243757247925, val loss: 0.5115630626678467, tr acc: 0.826370358467102, val acc: 0.7702546119689941\n",
      "Epoch #67, tr loss: 0.4124605059623718, val loss: 0.5117307305335999, tr acc: 0.826370358467102, val acc: 0.7702546119689941\n",
      "Epoch #68, tr loss: 0.4122350215911865, val loss: 0.5117608904838562, tr acc: 0.826370358467102, val acc: 0.7702546119689941\n",
      "Epoch #69, tr loss: 0.41198208928108215, val loss: 0.511786162853241, tr acc: 0.8282085657119751, val acc: 0.7702546119689941\n",
      "Epoch #70, tr loss: 0.41173499822616577, val loss: 0.5119642615318298, tr acc: 0.8282085657119751, val acc: 0.7702546119689941\n",
      "Epoch #71, tr loss: 0.4115317165851593, val loss: 0.512043833732605, tr acc: 0.8282085657119751, val acc: 0.7702546119689941\n",
      "Epoch #72, tr loss: 0.4112895429134369, val loss: 0.5122601389884949, tr acc: 0.8282085657119751, val acc: 0.7702546119689941\n",
      "Epoch #73, tr loss: 0.4111282229423523, val loss: 0.5122836828231812, tr acc: 0.8282085657119751, val acc: 0.7702546119689941\n",
      "Epoch #74, tr loss: 0.41087275743484497, val loss: 0.5124531388282776, tr acc: 0.8282085657119751, val acc: 0.7702546119689941\n",
      "Epoch #75, tr loss: 0.4106419086456299, val loss: 0.5124986171722412, tr acc: 0.8282085657119751, val acc: 0.7702546119689941\n",
      "Epoch #76, tr loss: 0.41042664647102356, val loss: 0.5123040676116943, tr acc: 0.8282085657119751, val acc: 0.7702546119689941\n",
      "Epoch #77, tr loss: 0.4102208614349365, val loss: 0.5124108195304871, tr acc: 0.8300468325614929, val acc: 0.7702546119689941\n",
      "Training is terminated by early stopping.\n",
      "Training finished. Best model weights are restored.\n",
      "Test loss: 0.4024745225906372, test acc: 0.826815664768219\n"
     ]
    },
    {
     "data": {
      "image/png": "[encoded data removed]",
      "text/plain": [
       "<Figure size 640x480 with 1 Axes>"
      ]
     },
     "metadata": {},
     "output_type": "display_data"
    }
   ],
   "source": [
    "loss_fn = nn.BCELoss()  # Alternatives:\n",
    "                        #     Regression: MSELoss\n",
    "                        #     Binary classification: BCELoss\n",
    "                        #     Multi-class classification: CELoss (needs Softmax to be applied on network predictions if probabilities are needed; if only top category is needed (argmax), then no need for softmax\n",
    "\n",
    "n_max_epochs = 200\n",
    "learning_rate = 0.001\n",
    "batch_size = 32\n",
    "optimizer = torch.optim.Adam(bincl_model.parameters(), lr=learning_rate)\n",
    "\n",
    "train_losses = []\n",
    "val_losses = []\n",
    "train_accuracy = []\n",
    "val_accuracy = []\n",
    "best_bincl_model = None\n",
    "best_val_loss = float('inf')\n",
    "early_stopping_patience = 40\n",
    "last_early_stopping_update_ep_idx = 0\n",
    "\n",
    "for epoch_idx in range(n_max_epochs):\n",
    "\n",
    "    # training\n",
    "    bincl_model.train()\n",
    "    train_losses_in_epoch = []\n",
    "    train_accs_in_epoch = []\n",
    "\n",
    "    for offset_idx in range(0, inputs_train_t.shape[0], batch_size):\n",
    "        end_offset_idx = min(offset_idx + batch_size, inputs_train_t.shape[0])\n",
    "        train_batch_xs = inputs_train_t[offset_idx:end_offset_idx, :]\n",
    "        train_batch_ys = labels_train_t[offset_idx:end_offset_idx, None]\n",
    "\n",
    "        optimizer.zero_grad()\n",
    "        train_batch_ys_pred = bincl_model(train_batch_xs)\n",
    "        loss = loss_fn(train_batch_ys_pred, train_batch_ys)\n",
    "        acc = bin_acc_fn(train_batch_ys_pred, train_batch_ys)\n",
    "\n",
    "        train_losses_in_epoch.append(loss.detach())    # 'loss.detach()' is stored in the list only, not 'loss' itself\n",
    "                                                       #     to avoid keeping the computational graph connected to\n",
    "                                                       #     all tensors stored in the 'train_losses_in_epoch' list\n",
    "        train_accs_in_epoch.append(acc)                # 'acc.detach()' is not needed, as the 'acc' tensor has no computational\n",
    "                                                       #     graph connected to it, since it comes from a no_grad environment\n",
    "        loss.backward()\n",
    "        optimizer.step()\n",
    "\n",
    "    train_losses_in_epoch = torch.tensor(train_losses_in_epoch)\n",
    "    train_accs_in_epoch = torch.tensor(train_accs_in_epoch)\n",
    "    avg_tr_epoch_loss = train_losses_in_epoch.mean()    # not exactly precise because of last (possibly) incomplete batch\n",
    "    avg_tr_epoch_acc = train_accs_in_epoch.mean()\n",
    "    train_losses.append(avg_tr_epoch_loss)\n",
    "    train_accuracy.append(avg_tr_epoch_acc)\n",
    "\n",
    "    # validation\n",
    "    bincl_model.eval()\n",
    "    val_losses_in_epoch = []\n",
    "    val_accs_in_epoch = []\n",
    "\n",
    "    for offset_idx in range(0, labels_val_t.shape[0], batch_size):\n",
    "        end_offset_idx = min(offset_idx + batch_size, labels_val_t.shape[0])\n",
    "        val_batch_xs = inputs_val_t[offset_idx:end_offset_idx, :]\n",
    "        val_batch_ys = labels_val_t[offset_idx:end_offset_idx, None]\n",
    "\n",
    "        with torch.no_grad():                      # no need to compute gradients for validation predictions/losses\n",
    "            val_batch_ys_pred = bincl_model(val_batch_xs)\n",
    "        loss = loss_fn(val_batch_ys_pred, val_batch_ys)\n",
    "        acc = bin_acc_fn(val_batch_ys_pred, val_batch_ys)\n",
    "\n",
    "        val_losses_in_epoch.append(loss)    # 'loss.detach()' is not needed, again, as 'val_batch_ys_pred' was created in a no_grad environment\n",
    "                                            #     therefore 'loss' has no computational graph connected to it either\n",
    "        val_accs_in_epoch.append(acc)\n",
    "\n",
    "    val_losses_in_epoch = torch.tensor(val_losses_in_epoch)\n",
    "    val_accs_in_epoch = torch.tensor(val_accs_in_epoch)\n",
    "    avg_val_epoch_loss = val_losses_in_epoch.mean()    # not exactly precise because of last (possibly) incomplete batch\n",
    "    avg_val_epoch_acc = val_accs_in_epoch.mean()\n",
    "    val_losses.append(avg_val_epoch_loss)\n",
    "    val_accuracy.append(avg_val_epoch_acc)\n",
    "\n",
    "    # logging\n",
    "    print(f\"Epoch #{epoch_idx}, tr loss: {avg_tr_epoch_loss}, val loss: {avg_val_epoch_loss}, tr acc: {avg_tr_epoch_acc}, val acc: {avg_val_epoch_acc}\")\n",
    "\n",
    "    # early stopping: check if current weights give the lowest ever loss\n",
    "    if avg_val_epoch_loss < best_val_loss:\n",
    "        best_val_loss = avg_val_epoch_loss\n",
    "        best_bincl_model = copy.deepcopy(bincl_model)\n",
    "        last_early_stopping_update_ep_idx = epoch_idx\n",
    "        print(\"    Early stopping: Best model updated.\")\n",
    "\n",
    "    # early stopping: break if no update for a long time\n",
    "    if last_early_stopping_update_ep_idx + early_stopping_patience < epoch_idx:\n",
    "        print(\"Training is terminated by early stopping.\")\n",
    "        break\n",
    "\n",
    "    # (end of training loop)\n",
    "\n",
    "# restore best model (with lowest validation loss) saved by early stopping\n",
    "print(\"Training finished. Best model weights are restored.\")\n",
    "bincl_model = best_bincl_model\n",
    "\n",
    "# training has finished; evaluate trained model on test set (measure loss, accuracy on test set)\n",
    "test_ys_preds = []\n",
    "for offset_idx in range(0, labels_test_t.shape[0], batch_size):               # if the whole test set evaluation fits into memory, no need to do batches here, can be done in one go\n",
    "    end_offset_idx = min(offset_idx + batch_size, labels_test_t.shape[0])\n",
    "    test_batch_xs = inputs_test_t[offset_idx:end_offset_idx, :]\n",
    "    test_batch_ys = labels_test_t[offset_idx:end_offset_idx, None]\n",
    "\n",
    "    with torch.no_grad():                      # no need to compute gradients for validation predictions/losses\n",
    "        test_batch_ys_pred = bincl_model(test_batch_xs)\n",
    "        test_ys_preds.append(test_batch_ys_pred)     # not collecting losses, but all predictions\n",
    "                                                     # test_batch_ys_pred.detach() is not needed, again, as we are in a no_grad environment\n",
    "\n",
    "test_ys_preds = torch.cat(test_ys_preds, axis=0)\n",
    "test_loss = loss_fn(test_ys_preds, labels_test_t[:,None])\n",
    "test_acc = bin_acc_fn(test_ys_preds, labels_test_t[:,None])\n",
    "\n",
    "print(f\"Test loss: {test_loss}, test acc: {test_acc}\")\n",
    "\n",
    "# Plot training/val curves\n",
    "plt.plot(train_losses, label='Training')\n",
    "plt.plot(val_losses, label='Validation')\n",
    "plt.plot(train_accuracy, label='Training acc')\n",
    "plt.plot(val_accuracy, label='Validation acc')\n",
    "plt.xlabel('Epochs')\n",
    "plt.ylabel('BCE loss / Accuracy')\n",
    "plt.legend()\n",
    "plt.show()\n"
   ]
  },
  {
   "cell_type": "code",
   "execution_count": null,
   "id": "8b97a997-7b03-45b0-ad53-23403ae83870",
   "metadata": {
    "colab": {
     "base_uri": "https://localhost:8080/"
    },
    "id": "8b97a997-7b03-45b0-ad53-23403ae83870",
    "outputId": "60c5f42a-b658-43e1-9fe8-e8de0b39bcf6"
   },
   "outputs": [
    {
     "data": {
      "text/plain": [
       "array([115,  64])"
      ]
     },
     "execution_count": 46,
     "metadata": {},
     "output_type": "execute_result"
    }
   ],
   "source": [
    "# Check test set label category distribution to see if accuracy metric is fair or not\n",
    "np.bincount(labels_test)\n"
   ]
  },
  {
   "cell_type": "markdown",
   "id": "7565372c-5a62-484f-b22b-332e202ebdf7",
   "metadata": {
    "id": "7565372c-5a62-484f-b22b-332e202ebdf7"
   },
   "source": [
    "## Generátoros minibatch-iteráció"
   ]
  },
  {
   "cell_type": "code",
   "execution_count": null,
   "id": "563c4094-cfbc-4183-adc6-82fcbddba2bc",
   "metadata": {
    "id": "563c4094-cfbc-4183-adc6-82fcbddba2bc"
   },
   "outputs": [],
   "source": [
    "def minibatch_generator(input_split, labels_split):\n",
    "    # input_split: (n_samples, n_features), labels_split: (n_samples,)\n",
    "    assert input_split.shape[:1] == labels_split.shape\n",
    "    for offset_idx in range(0, input_split.shape[0], batch_size):\n",
    "        train_batch_xs = input_split[offset_idx:offset_idx+batch_size, :]\n",
    "        train_batch_ys = labels_split[offset_idx:offset_idx+batch_size, None]\n",
    "        yield train_batch_xs, train_batch_ys\n"
   ]
  },
  {
   "cell_type": "code",
   "execution_count": null,
   "id": "f5b93919-6ff8-455c-9517-62d3c231d2d1",
   "metadata": {
    "colab": {
     "base_uri": "https://localhost:8080/",
     "height": 1000
    },
    "id": "f5b93919-6ff8-455c-9517-62d3c231d2d1",
    "outputId": "b188f5b4-78ac-4375-c005-21b510183655"
   },
   "outputs": [
    {
     "name": "stdout",
     "output_type": "stream",
     "text": [
      "Epoch #0, tr loss: 0.687275230884552, val loss: 0.6799929738044739, tr acc: 0.5534759163856506, val acc: 0.7337962985038757\n",
      "    Early stopping: Best model updated.\n",
      "Epoch #1, tr loss: 0.6704582571983337, val loss: 0.6627554297447205, tr acc: 0.7779077887535095, val acc: 0.7204861640930176\n",
      "    Early stopping: Best model updated.\n",
      "Epoch #2, tr loss: 0.649042546749115, val loss: 0.6389095187187195, tr acc: 0.7337900996208191, val acc: 0.7204861640930176\n",
      "    Early stopping: Best model updated.\n",
      "Epoch #3, tr loss: 0.6210125684738159, val loss: 0.6123388409614563, tr acc: 0.7282754182815552, val acc: 0.7152778506278992\n",
      "    Early stopping: Best model updated.\n",
      "Epoch #4, tr loss: 0.5904629826545715, val loss: 0.5865482687950134, tr acc: 0.7282754182815552, val acc: 0.725694477558136\n",
      "    Early stopping: Best model updated.\n",
      "Epoch #5, tr loss: 0.5596264004707336, val loss: 0.5642299652099609, tr acc: 0.759358286857605, val acc: 0.7662037014961243\n",
      "    Early stopping: Best model updated.\n",
      "Epoch #6, tr loss: 0.5316725373268127, val loss: 0.5467703342437744, tr acc: 0.800635039806366, val acc: 0.7337962985038757\n",
      "    Early stopping: Best model updated.\n",
      "Epoch #7, tr loss: 0.5080509185791016, val loss: 0.5355883240699768, tr acc: 0.8079879879951477, val acc: 0.7390046119689941\n",
      "    Early stopping: Best model updated.\n",
      "Epoch #8, tr loss: 0.4898518919944763, val loss: 0.5296300649642944, tr acc: 0.8024733066558838, val acc: 0.7390046119689941\n",
      "    Early stopping: Best model updated.\n",
      "Epoch #9, tr loss: 0.4771297574043274, val loss: 0.5264844298362732, tr acc: 0.8024733066558838, val acc: 0.7390046119689941\n",
      "    Early stopping: Best model updated.\n",
      "Epoch #10, tr loss: 0.468826562166214, val loss: 0.5246319770812988, tr acc: 0.8024733066558838, val acc: 0.7390046119689941\n",
      "    Early stopping: Best model updated.\n",
      "Epoch #11, tr loss: 0.46335911750793457, val loss: 0.5230748057365417, tr acc: 0.8024733066558838, val acc: 0.7390046119689941\n",
      "    Early stopping: Best model updated.\n",
      "Epoch #12, tr loss: 0.45951876044273376, val loss: 0.5215830206871033, tr acc: 0.8024733066558838, val acc: 0.7390046119689941\n",
      "    Early stopping: Best model updated.\n",
      "Epoch #13, tr loss: 0.4564940929412842, val loss: 0.5199046730995178, tr acc: 0.8024733066558838, val acc: 0.7390046119689941\n",
      "    Early stopping: Best model updated.\n",
      "Epoch #14, tr loss: 0.4538334906101227, val loss: 0.5182111263275146, tr acc: 0.8024733066558838, val acc: 0.7390046119689941\n",
      "    Early stopping: Best model updated.\n",
      "Epoch #15, tr loss: 0.451461523771286, val loss: 0.5167936682701111, tr acc: 0.8024733066558838, val acc: 0.7390046119689941\n",
      "    Early stopping: Best model updated.\n",
      "Epoch #16, tr loss: 0.4491446018218994, val loss: 0.5154020190238953, tr acc: 0.8043115139007568, val acc: 0.7390046119689941\n",
      "    Early stopping: Best model updated.\n",
      "Epoch #17, tr loss: 0.4469403326511383, val loss: 0.5139380097389221, tr acc: 0.8043115139007568, val acc: 0.7390046119689941\n",
      "    Early stopping: Best model updated.\n",
      "Epoch #18, tr loss: 0.4449962079524994, val loss: 0.5127254724502563, tr acc: 0.8043115139007568, val acc: 0.7390046119689941\n",
      "    Early stopping: Best model updated.\n",
      "Epoch #19, tr loss: 0.4432321786880493, val loss: 0.5120499134063721, tr acc: 0.8024733066558838, val acc: 0.7390046119689941\n",
      "    Early stopping: Best model updated.\n",
      "Epoch #20, tr loss: 0.441564679145813, val loss: 0.5114759802818298, tr acc: 0.8079879879951477, val acc: 0.7390046119689941\n",
      "    Early stopping: Best model updated.\n",
      "Epoch #21, tr loss: 0.43990573287010193, val loss: 0.5111222863197327, tr acc: 0.8079879879951477, val acc: 0.7494212985038757\n",
      "    Early stopping: Best model updated.\n",
      "Epoch #22, tr loss: 0.43838921189308167, val loss: 0.5106592774391174, tr acc: 0.8061497807502747, val acc: 0.7494212985038757\n",
      "    Early stopping: Best model updated.\n",
      "Epoch #23, tr loss: 0.4370538592338562, val loss: 0.5104144215583801, tr acc: 0.8098262548446655, val acc: 0.7494212985038757\n",
      "    Early stopping: Best model updated.\n",
      "Epoch #24, tr loss: 0.4357742369174957, val loss: 0.5100009441375732, tr acc: 0.8190174102783203, val acc: 0.7494212985038757\n",
      "    Early stopping: Best model updated.\n",
      "Epoch #25, tr loss: 0.43463292717933655, val loss: 0.5095326900482178, tr acc: 0.8208556175231934, val acc: 0.7442129254341125\n",
      "    Early stopping: Best model updated.\n",
      "Epoch #26, tr loss: 0.4335067570209503, val loss: 0.509151041507721, tr acc: 0.8153409361839294, val acc: 0.7494212985038757\n",
      "    Early stopping: Best model updated.\n",
      "Epoch #27, tr loss: 0.43247896432876587, val loss: 0.5089312195777893, tr acc: 0.8171792030334473, val acc: 0.7546296119689941\n",
      "    Early stopping: Best model updated.\n",
      "Epoch #28, tr loss: 0.4314539432525635, val loss: 0.5086126923561096, tr acc: 0.8171792030334473, val acc: 0.7546296119689941\n",
      "    Early stopping: Best model updated.\n",
      "Epoch #29, tr loss: 0.43050166964530945, val loss: 0.5083248615264893, tr acc: 0.8190174102783203, val acc: 0.7598379254341125\n",
      "    Early stopping: Best model updated.\n",
      "Epoch #30, tr loss: 0.42961692810058594, val loss: 0.5082406401634216, tr acc: 0.8190174102783203, val acc: 0.7598379254341125\n",
      "    Early stopping: Best model updated.\n",
      "Epoch #31, tr loss: 0.428732693195343, val loss: 0.508105993270874, tr acc: 0.8171792030334473, val acc: 0.7598379254341125\n",
      "    Early stopping: Best model updated.\n",
      "Epoch #32, tr loss: 0.4279016852378845, val loss: 0.5079662203788757, tr acc: 0.8153409361839294, val acc: 0.7598379254341125\n",
      "    Early stopping: Best model updated.\n",
      "Epoch #33, tr loss: 0.42710041999816895, val loss: 0.5078123807907104, tr acc: 0.8171792030334473, val acc: 0.7598379254341125\n",
      "    Early stopping: Best model updated.\n",
      "Epoch #34, tr loss: 0.4263789653778076, val loss: 0.507713258266449, tr acc: 0.8208556175231934, val acc: 0.7598379254341125\n",
      "    Early stopping: Best model updated.\n",
      "Epoch #35, tr loss: 0.4256049394607544, val loss: 0.5075140595436096, tr acc: 0.8226938843727112, val acc: 0.7598379254341125\n",
      "    Early stopping: Best model updated.\n",
      "Epoch #36, tr loss: 0.42489615082740784, val loss: 0.5073562860488892, tr acc: 0.8245320916175842, val acc: 0.7598379254341125\n",
      "    Early stopping: Best model updated.\n",
      "Epoch #37, tr loss: 0.4241924583911896, val loss: 0.5071647763252258, tr acc: 0.8226938843727112, val acc: 0.7598379254341125\n",
      "    Early stopping: Best model updated.\n",
      "Epoch #38, tr loss: 0.42351147532463074, val loss: 0.506851077079773, tr acc: 0.8226938843727112, val acc: 0.7598379254341125\n",
      "    Early stopping: Best model updated.\n",
      "Epoch #39, tr loss: 0.42286744713783264, val loss: 0.5067024230957031, tr acc: 0.8226938843727112, val acc: 0.7598379254341125\n",
      "    Early stopping: Best model updated.\n",
      "Epoch #40, tr loss: 0.42227089405059814, val loss: 0.5066336989402771, tr acc: 0.8226938843727112, val acc: 0.7598379254341125\n",
      "    Early stopping: Best model updated.\n",
      "Epoch #41, tr loss: 0.421650767326355, val loss: 0.5064516067504883, tr acc: 0.8226938843727112, val acc: 0.7598379254341125\n",
      "    Early stopping: Best model updated.\n",
      "Epoch #42, tr loss: 0.4211132228374481, val loss: 0.5064335465431213, tr acc: 0.8245320916175842, val acc: 0.7598379254341125\n",
      "    Early stopping: Best model updated.\n",
      "Epoch #43, tr loss: 0.4205337464809418, val loss: 0.5064083933830261, tr acc: 0.8245320916175842, val acc: 0.7598379254341125\n",
      "    Early stopping: Best model updated.\n",
      "Epoch #44, tr loss: 0.4200165569782257, val loss: 0.5062828063964844, tr acc: 0.8245320916175842, val acc: 0.7598379254341125\n",
      "    Early stopping: Best model updated.\n",
      "Epoch #45, tr loss: 0.4194653034210205, val loss: 0.5062045454978943, tr acc: 0.826370358467102, val acc: 0.7650462985038757\n",
      "    Early stopping: Best model updated.\n",
      "Epoch #46, tr loss: 0.418956995010376, val loss: 0.5060780644416809, tr acc: 0.826370358467102, val acc: 0.7702546119689941\n",
      "    Early stopping: Best model updated.\n",
      "Epoch #47, tr loss: 0.41848647594451904, val loss: 0.5060892105102539, tr acc: 0.8245320916175842, val acc: 0.7702546119689941\n",
      "Epoch #48, tr loss: 0.4179636240005493, val loss: 0.5060610175132751, tr acc: 0.8245320916175842, val acc: 0.7702546119689941\n",
      "    Early stopping: Best model updated.\n",
      "Epoch #49, tr loss: 0.41753146052360535, val loss: 0.5059584975242615, tr acc: 0.8282085657119751, val acc: 0.7702546119689941\n",
      "    Early stopping: Best model updated.\n",
      "Epoch #50, tr loss: 0.4170871675014496, val loss: 0.5057927966117859, tr acc: 0.8282085657119751, val acc: 0.7702546119689941\n",
      "    Early stopping: Best model updated.\n",
      "Epoch #51, tr loss: 0.4166523218154907, val loss: 0.5055437684059143, tr acc: 0.8282085657119751, val acc: 0.7702546119689941\n",
      "    Early stopping: Best model updated.\n",
      "Epoch #52, tr loss: 0.4162430763244629, val loss: 0.5054146647453308, tr acc: 0.8282085657119751, val acc: 0.7702546119689941\n",
      "    Early stopping: Best model updated.\n",
      "Epoch #53, tr loss: 0.41582009196281433, val loss: 0.5051851868629456, tr acc: 0.8282085657119751, val acc: 0.7702546119689941\n",
      "    Early stopping: Best model updated.\n",
      "Epoch #54, tr loss: 0.41546592116355896, val loss: 0.5051010847091675, tr acc: 0.8282085657119751, val acc: 0.7702546119689941\n",
      "    Early stopping: Best model updated.\n",
      "Epoch #55, tr loss: 0.4150286316871643, val loss: 0.504915714263916, tr acc: 0.8300468325614929, val acc: 0.7702546119689941\n",
      "    Early stopping: Best model updated.\n",
      "Epoch #56, tr loss: 0.4146117866039276, val loss: 0.5048037171363831, tr acc: 0.826370358467102, val acc: 0.7702546119689941\n",
      "    Early stopping: Best model updated.\n",
      "Epoch #57, tr loss: 0.41419899463653564, val loss: 0.5046141743659973, tr acc: 0.8245320916175842, val acc: 0.7702546119689941\n",
      "    Early stopping: Best model updated.\n",
      "Epoch #58, tr loss: 0.413870245218277, val loss: 0.5045369267463684, tr acc: 0.8245320916175842, val acc: 0.7702546119689941\n",
      "    Early stopping: Best model updated.\n",
      "Epoch #59, tr loss: 0.41349780559539795, val loss: 0.5044603943824768, tr acc: 0.8245320916175842, val acc: 0.7702546119689941\n",
      "    Early stopping: Best model updated.\n",
      "Epoch #60, tr loss: 0.4131309390068054, val loss: 0.5044662356376648, tr acc: 0.8245320916175842, val acc: 0.7702546119689941\n",
      "Epoch #61, tr loss: 0.41276881098747253, val loss: 0.5042896270751953, tr acc: 0.8245320916175842, val acc: 0.7702546119689941\n",
      "    Early stopping: Best model updated.\n",
      "Epoch #62, tr loss: 0.4124175012111664, val loss: 0.5041833519935608, tr acc: 0.8245320916175842, val acc: 0.7702546119689941\n",
      "    Early stopping: Best model updated.\n",
      "Epoch #63, tr loss: 0.41214197874069214, val loss: 0.5039502382278442, tr acc: 0.8245320916175842, val acc: 0.7702546119689941\n",
      "    Early stopping: Best model updated.\n",
      "Epoch #64, tr loss: 0.41173356771469116, val loss: 0.5038381814956665, tr acc: 0.8245320916175842, val acc: 0.7702546119689941\n",
      "    Early stopping: Best model updated.\n",
      "Epoch #65, tr loss: 0.4114319682121277, val loss: 0.5038346648216248, tr acc: 0.8245320916175842, val acc: 0.7702546119689941\n",
      "    Early stopping: Best model updated.\n",
      "Epoch #66, tr loss: 0.4111050069332123, val loss: 0.503853976726532, tr acc: 0.826370358467102, val acc: 0.7702546119689941\n",
      "Epoch #67, tr loss: 0.4107819199562073, val loss: 0.5038931965827942, tr acc: 0.8282085657119751, val acc: 0.7702546119689941\n",
      "Epoch #68, tr loss: 0.410527765750885, val loss: 0.5040398240089417, tr acc: 0.8282085657119751, val acc: 0.7702546119689941\n",
      "Epoch #69, tr loss: 0.4101700186729431, val loss: 0.503764271736145, tr acc: 0.8282085657119751, val acc: 0.7702546119689941\n",
      "    Early stopping: Best model updated.\n",
      "Epoch #70, tr loss: 0.4098532199859619, val loss: 0.5036973357200623, tr acc: 0.8282085657119751, val acc: 0.7702546119689941\n",
      "    Early stopping: Best model updated.\n",
      "Epoch #71, tr loss: 0.40961411595344543, val loss: 0.503811776638031, tr acc: 0.8282085657119751, val acc: 0.7702546119689941\n",
      "Epoch #72, tr loss: 0.4092477858066559, val loss: 0.5034987330436707, tr acc: 0.8282085657119751, val acc: 0.7650462985038757\n",
      "    Early stopping: Best model updated.\n",
      "Epoch #73, tr loss: 0.40904664993286133, val loss: 0.5035753846168518, tr acc: 0.831885039806366, val acc: 0.7650462985038757\n",
      "Epoch #74, tr loss: 0.4086827337741852, val loss: 0.5034858584403992, tr acc: 0.831885039806366, val acc: 0.7650462985038757\n",
      "    Early stopping: Best model updated.\n",
      "Epoch #75, tr loss: 0.40843477845191956, val loss: 0.5034907460212708, tr acc: 0.831885039806366, val acc: 0.7598379254341125\n",
      "Epoch #76, tr loss: 0.4081580340862274, val loss: 0.5034053921699524, tr acc: 0.831885039806366, val acc: 0.7598379254341125\n",
      "    Early stopping: Best model updated.\n",
      "Epoch #77, tr loss: 0.40790069103240967, val loss: 0.5034375786781311, tr acc: 0.831885039806366, val acc: 0.7650462985038757\n",
      "Epoch #78, tr loss: 0.40759921073913574, val loss: 0.5033934116363525, tr acc: 0.8300468325614929, val acc: 0.7650462985038757\n",
      "    Early stopping: Best model updated.\n",
      "Epoch #79, tr loss: 0.40738925337791443, val loss: 0.5035496950149536, tr acc: 0.8300468325614929, val acc: 0.7598379254341125\n",
      "Epoch #80, tr loss: 0.40699005126953125, val loss: 0.5034331679344177, tr acc: 0.8300468325614929, val acc: 0.7598379254341125\n",
      "Epoch #81, tr loss: 0.4068450331687927, val loss: 0.5035722255706787, tr acc: 0.831885039806366, val acc: 0.7598379254341125\n",
      "Epoch #82, tr loss: 0.406566858291626, val loss: 0.5035917162895203, tr acc: 0.8337233066558838, val acc: 0.7598379254341125\n",
      "Epoch #83, tr loss: 0.4062899351119995, val loss: 0.5038990378379822, tr acc: 0.8355615139007568, val acc: 0.7598379254341125\n",
      "Epoch #84, tr loss: 0.4059502184391022, val loss: 0.5038261413574219, tr acc: 0.8355615139007568, val acc: 0.7598379254341125\n",
      "Epoch #85, tr loss: 0.40580350160598755, val loss: 0.5041866898536682, tr acc: 0.8355615139007568, val acc: 0.7598379254341125\n",
      "Epoch #86, tr loss: 0.40546780824661255, val loss: 0.5043001770973206, tr acc: 0.8373997807502747, val acc: 0.7598379254341125\n",
      "Epoch #87, tr loss: 0.4052291214466095, val loss: 0.5044546723365784, tr acc: 0.8373997807502747, val acc: 0.7598379254341125\n",
      "Epoch #88, tr loss: 0.4049736559391022, val loss: 0.5045503973960876, tr acc: 0.8373997807502747, val acc: 0.7598379254341125\n",
      "Epoch #89, tr loss: 0.40473484992980957, val loss: 0.5045273900032043, tr acc: 0.8373997807502747, val acc: 0.7598379254341125\n",
      "Epoch #90, tr loss: 0.40441423654556274, val loss: 0.5045011043548584, tr acc: 0.8392379879951477, val acc: 0.7598379254341125\n",
      "Epoch #91, tr loss: 0.4041689336299896, val loss: 0.5044272541999817, tr acc: 0.8392379879951477, val acc: 0.7598379254341125\n",
      "Epoch #92, tr loss: 0.40397629141807556, val loss: 0.5046085715293884, tr acc: 0.8392379879951477, val acc: 0.7598379254341125\n",
      "Epoch #93, tr loss: 0.4037097990512848, val loss: 0.5047138929367065, tr acc: 0.8392379879951477, val acc: 0.7598379254341125\n",
      "Epoch #94, tr loss: 0.40347012877464294, val loss: 0.5049186944961548, tr acc: 0.8392379879951477, val acc: 0.7598379254341125\n",
      "Epoch #95, tr loss: 0.40322375297546387, val loss: 0.5046159625053406, tr acc: 0.8392379879951477, val acc: 0.7598379254341125\n",
      "Epoch #96, tr loss: 0.4029783308506012, val loss: 0.5044351816177368, tr acc: 0.8392379879951477, val acc: 0.7598379254341125\n",
      "Epoch #97, tr loss: 0.40282830595970154, val loss: 0.5042417645454407, tr acc: 0.8410762548446655, val acc: 0.7598379254341125\n",
      "Epoch #98, tr loss: 0.40256622433662415, val loss: 0.504237949848175, tr acc: 0.8392379879951477, val acc: 0.7598379254341125\n",
      "Epoch #99, tr loss: 0.40227076411247253, val loss: 0.5038480162620544, tr acc: 0.8410762548446655, val acc: 0.7598379254341125\n",
      "Epoch #100, tr loss: 0.4021179676055908, val loss: 0.5037732720375061, tr acc: 0.8410762548446655, val acc: 0.7598379254341125\n",
      "Epoch #101, tr loss: 0.40190842747688293, val loss: 0.5035734176635742, tr acc: 0.8429144620895386, val acc: 0.7598379254341125\n",
      "Epoch #102, tr loss: 0.40153968334198, val loss: 0.503411591053009, tr acc: 0.8429144620895386, val acc: 0.7598379254341125\n",
      "Epoch #103, tr loss: 0.40144678950309753, val loss: 0.5029355883598328, tr acc: 0.8429144620895386, val acc: 0.7598379254341125\n",
      "    Early stopping: Best model updated.\n",
      "Epoch #104, tr loss: 0.40118518471717834, val loss: 0.5029581189155579, tr acc: 0.8429144620895386, val acc: 0.7598379254341125\n",
      "Epoch #105, tr loss: 0.4009541869163513, val loss: 0.5028586387634277, tr acc: 0.8429144620895386, val acc: 0.7598379254341125\n",
      "    Early stopping: Best model updated.\n",
      "Epoch #106, tr loss: 0.40058434009552, val loss: 0.5027763843536377, tr acc: 0.8410762548446655, val acc: 0.7598379254341125\n",
      "    Early stopping: Best model updated.\n",
      "Epoch #107, tr loss: 0.4005068838596344, val loss: 0.5030742287635803, tr acc: 0.8410762548446655, val acc: 0.7598379254341125\n",
      "Epoch #108, tr loss: 0.40023940801620483, val loss: 0.5028130412101746, tr acc: 0.8410762548446655, val acc: 0.7598379254341125\n",
      "Epoch #109, tr loss: 0.4000355899333954, val loss: 0.5030360817909241, tr acc: 0.8410762548446655, val acc: 0.7598379254341125\n",
      "Epoch #110, tr loss: 0.3998512327671051, val loss: 0.5039213299751282, tr acc: 0.8429144620895386, val acc: 0.7598379254341125\n",
      "Epoch #111, tr loss: 0.39970746636390686, val loss: 0.5040038228034973, tr acc: 0.8410762548446655, val acc: 0.7598379254341125\n",
      "Epoch #112, tr loss: 0.399352103471756, val loss: 0.504117488861084, tr acc: 0.8410762548446655, val acc: 0.7598379254341125\n",
      "Epoch #113, tr loss: 0.39914679527282715, val loss: 0.5039911270141602, tr acc: 0.8410762548446655, val acc: 0.7598379254341125\n",
      "Epoch #114, tr loss: 0.3989420235157013, val loss: 0.5039059519767761, tr acc: 0.8410762548446655, val acc: 0.7598379254341125\n",
      "Epoch #115, tr loss: 0.3986828327178955, val loss: 0.5038228034973145, tr acc: 0.8429144620895386, val acc: 0.7598379254341125\n",
      "Epoch #116, tr loss: 0.3985019624233246, val loss: 0.5039860606193542, tr acc: 0.8410762548446655, val acc: 0.7598379254341125\n",
      "Epoch #117, tr loss: 0.3982781171798706, val loss: 0.5039823055267334, tr acc: 0.8410762548446655, val acc: 0.7598379254341125\n",
      "Epoch #118, tr loss: 0.3980162441730499, val loss: 0.5040354132652283, tr acc: 0.8410762548446655, val acc: 0.7598379254341125\n",
      "Epoch #119, tr loss: 0.39771419763565063, val loss: 0.5033894181251526, tr acc: 0.8429144620895386, val acc: 0.7650462985038757\n",
      "Epoch #120, tr loss: 0.397566556930542, val loss: 0.5035508275032043, tr acc: 0.8429144620895386, val acc: 0.7650462985038757\n",
      "Epoch #121, tr loss: 0.3973348140716553, val loss: 0.5033596158027649, tr acc: 0.8429144620895386, val acc: 0.7650462985038757\n",
      "Epoch #122, tr loss: 0.3970739543437958, val loss: 0.5032886266708374, tr acc: 0.8429144620895386, val acc: 0.7650462985038757\n",
      "Epoch #123, tr loss: 0.39684873819351196, val loss: 0.5036214590072632, tr acc: 0.8447527289390564, val acc: 0.7650462985038757\n",
      "Epoch #124, tr loss: 0.3965703248977661, val loss: 0.5030661821365356, tr acc: 0.8447527289390564, val acc: 0.7650462985038757\n",
      "Epoch #125, tr loss: 0.39637643098831177, val loss: 0.503160297870636, tr acc: 0.8447527289390564, val acc: 0.7598379254341125\n",
      "Epoch #126, tr loss: 0.39610275626182556, val loss: 0.5029677748680115, tr acc: 0.8447527289390564, val acc: 0.7598379254341125\n",
      "Epoch #127, tr loss: 0.3960253894329071, val loss: 0.5029290914535522, tr acc: 0.8447527289390564, val acc: 0.7650462985038757\n",
      "Epoch #128, tr loss: 0.39568474888801575, val loss: 0.5033014416694641, tr acc: 0.8447527289390564, val acc: 0.7650462985038757\n",
      "Epoch #129, tr loss: 0.39546331763267517, val loss: 0.5026995539665222, tr acc: 0.8447527289390564, val acc: 0.7650462985038757\n",
      "    Early stopping: Best model updated.\n",
      "Epoch #130, tr loss: 0.3952837288379669, val loss: 0.5029062628746033, tr acc: 0.8429144620895386, val acc: 0.7650462985038757\n",
      "Epoch #131, tr loss: 0.3949798047542572, val loss: 0.5027708411216736, tr acc: 0.8410762548446655, val acc: 0.7650462985038757\n",
      "Epoch #132, tr loss: 0.3949337601661682, val loss: 0.5024887919425964, tr acc: 0.8410762548446655, val acc: 0.7650462985038757\n",
      "    Early stopping: Best model updated.\n",
      "Epoch #133, tr loss: 0.3945988118648529, val loss: 0.502511739730835, tr acc: 0.8410762548446655, val acc: 0.7650462985038757\n",
      "Epoch #134, tr loss: 0.39439648389816284, val loss: 0.502694308757782, tr acc: 0.8410762548446655, val acc: 0.7650462985038757\n",
      "Epoch #135, tr loss: 0.3941645622253418, val loss: 0.50178462266922, tr acc: 0.8410762548446655, val acc: 0.7650462985038757\n",
      "    Early stopping: Best model updated.\n",
      "Epoch #136, tr loss: 0.39402008056640625, val loss: 0.5019566416740417, tr acc: 0.8410762548446655, val acc: 0.7650462985038757\n",
      "Epoch #137, tr loss: 0.39376938343048096, val loss: 0.5021435618400574, tr acc: 0.8410762548446655, val acc: 0.7650462985038757\n",
      "Epoch #138, tr loss: 0.39364829659461975, val loss: 0.5018220543861389, tr acc: 0.8410762548446655, val acc: 0.7702546119689941\n",
      "Epoch #139, tr loss: 0.39341863989830017, val loss: 0.5018230080604553, tr acc: 0.8410762548446655, val acc: 0.7702546119689941\n",
      "Epoch #140, tr loss: 0.39317813515663147, val loss: 0.5014021396636963, tr acc: 0.8410762548446655, val acc: 0.7702546119689941\n",
      "    Early stopping: Best model updated.\n",
      "Epoch #141, tr loss: 0.39296430349349976, val loss: 0.501322329044342, tr acc: 0.8410762548446655, val acc: 0.7702546119689941\n",
      "    Early stopping: Best model updated.\n",
      "Epoch #142, tr loss: 0.39283543825149536, val loss: 0.5013517737388611, tr acc: 0.8410762548446655, val acc: 0.7702546119689941\n",
      "Epoch #143, tr loss: 0.3925830125808716, val loss: 0.5009335875511169, tr acc: 0.8410762548446655, val acc: 0.7702546119689941\n",
      "    Early stopping: Best model updated.\n",
      "Epoch #144, tr loss: 0.3924332857131958, val loss: 0.5010517239570618, tr acc: 0.8410762548446655, val acc: 0.7702546119689941\n",
      "Epoch #145, tr loss: 0.3922019600868225, val loss: 0.5013110637664795, tr acc: 0.8392379879951477, val acc: 0.7702546119689941\n",
      "Epoch #146, tr loss: 0.3920167088508606, val loss: 0.5012344717979431, tr acc: 0.8392379879951477, val acc: 0.7702546119689941\n",
      "Epoch #147, tr loss: 0.39182135462760925, val loss: 0.5012264847755432, tr acc: 0.8392379879951477, val acc: 0.7702546119689941\n",
      "Epoch #148, tr loss: 0.3915483355522156, val loss: 0.5008118152618408, tr acc: 0.8410762548446655, val acc: 0.7702546119689941\n",
      "    Early stopping: Best model updated.\n",
      "Epoch #149, tr loss: 0.39133334159851074, val loss: 0.5002238154411316, tr acc: 0.8392379879951477, val acc: 0.7702546119689941\n",
      "    Early stopping: Best model updated.\n",
      "Epoch #150, tr loss: 0.391093909740448, val loss: 0.4995230734348297, tr acc: 0.8410762548446655, val acc: 0.7702546119689941\n",
      "    Early stopping: Best model updated.\n",
      "Epoch #151, tr loss: 0.39086732268333435, val loss: 0.49961987137794495, tr acc: 0.8392379879951477, val acc: 0.7702546119689941\n",
      "Epoch #152, tr loss: 0.3906267583370209, val loss: 0.4991969168186188, tr acc: 0.8410762548446655, val acc: 0.7702546119689941\n",
      "    Early stopping: Best model updated.\n",
      "Epoch #153, tr loss: 0.3903866708278656, val loss: 0.49854353070259094, tr acc: 0.8410762548446655, val acc: 0.7702546119689941\n",
      "    Early stopping: Best model updated.\n",
      "Epoch #154, tr loss: 0.39004969596862793, val loss: 0.49776721000671387, tr acc: 0.8410762548446655, val acc: 0.7702546119689941\n",
      "    Early stopping: Best model updated.\n",
      "Epoch #155, tr loss: 0.39000529050827026, val loss: 0.49800968170166016, tr acc: 0.8392379879951477, val acc: 0.7702546119689941\n",
      "Epoch #156, tr loss: 0.389671266078949, val loss: 0.4980909824371338, tr acc: 0.8392379879951477, val acc: 0.7702546119689941\n",
      "Epoch #157, tr loss: 0.3893657624721527, val loss: 0.4977039396762848, tr acc: 0.8392379879951477, val acc: 0.7702546119689941\n",
      "    Early stopping: Best model updated.\n",
      "Epoch #158, tr loss: 0.3891904056072235, val loss: 0.4975924491882324, tr acc: 0.8392379879951477, val acc: 0.7702546119689941\n",
      "    Early stopping: Best model updated.\n",
      "Epoch #159, tr loss: 0.3889758586883545, val loss: 0.49718889594078064, tr acc: 0.8392379879951477, val acc: 0.7702546119689941\n",
      "    Early stopping: Best model updated.\n",
      "Epoch #160, tr loss: 0.38870707154273987, val loss: 0.49683478474617004, tr acc: 0.8392379879951477, val acc: 0.7702546119689941\n",
      "    Early stopping: Best model updated.\n",
      "Epoch #161, tr loss: 0.3884558081626892, val loss: 0.4973911941051483, tr acc: 0.8392379879951477, val acc: 0.7702546119689941\n",
      "Epoch #162, tr loss: 0.3883124887943268, val loss: 0.4974958896636963, tr acc: 0.8392379879951477, val acc: 0.7702546119689941\n",
      "Epoch #163, tr loss: 0.3879908621311188, val loss: 0.49689626693725586, tr acc: 0.8392379879951477, val acc: 0.7702546119689941\n",
      "Epoch #164, tr loss: 0.38774439692497253, val loss: 0.4971386194229126, tr acc: 0.8392379879951477, val acc: 0.7702546119689941\n",
      "Epoch #165, tr loss: 0.3877151310443878, val loss: 0.49709558486938477, tr acc: 0.8392379879951477, val acc: 0.7702546119689941\n",
      "Epoch #166, tr loss: 0.3873279094696045, val loss: 0.4967193603515625, tr acc: 0.8373997807502747, val acc: 0.7702546119689941\n",
      "    Early stopping: Best model updated.\n",
      "Epoch #167, tr loss: 0.3872188329696655, val loss: 0.49673059582710266, tr acc: 0.8373997807502747, val acc: 0.7609953880310059\n",
      "Epoch #168, tr loss: 0.3868750035762787, val loss: 0.4965364933013916, tr acc: 0.8373997807502747, val acc: 0.7609953880310059\n",
      "    Early stopping: Best model updated.\n",
      "Epoch #169, tr loss: 0.3866877853870392, val loss: 0.497163861989975, tr acc: 0.8392379879951477, val acc: 0.7662037014961243\n",
      "Epoch #170, tr loss: 0.38648566603660583, val loss: 0.49658334255218506, tr acc: 0.8392379879951477, val acc: 0.7662037014961243\n",
      "Epoch #171, tr loss: 0.3862987160682678, val loss: 0.4960228204727173, tr acc: 0.8373997807502747, val acc: 0.7662037014961243\n",
      "    Early stopping: Best model updated.\n",
      "Epoch #172, tr loss: 0.3859694302082062, val loss: 0.49619439244270325, tr acc: 0.8410762548446655, val acc: 0.7662037014961243\n",
      "Epoch #173, tr loss: 0.3859331011772156, val loss: 0.4965324401855469, tr acc: 0.8373997807502747, val acc: 0.7662037014961243\n",
      "Epoch #174, tr loss: 0.3855612874031067, val loss: 0.4966057538986206, tr acc: 0.8410762548446655, val acc: 0.7662037014961243\n",
      "Epoch #175, tr loss: 0.3853745758533478, val loss: 0.49585214257240295, tr acc: 0.8392379879951477, val acc: 0.7662037014961243\n",
      "    Early stopping: Best model updated.\n",
      "Epoch #176, tr loss: 0.38540056347846985, val loss: 0.49668511748313904, tr acc: 0.8410762548446655, val acc: 0.7662037014961243\n",
      "Epoch #177, tr loss: 0.38504311442375183, val loss: 0.49601587653160095, tr acc: 0.8410762548446655, val acc: 0.7662037014961243\n",
      "Epoch #178, tr loss: 0.38486921787261963, val loss: 0.49611368775367737, tr acc: 0.8429144620895386, val acc: 0.7662037014961243\n",
      "Epoch #179, tr loss: 0.3845521807670593, val loss: 0.4960281550884247, tr acc: 0.8429144620895386, val acc: 0.7662037014961243\n",
      "Epoch #180, tr loss: 0.38445478677749634, val loss: 0.49619463086128235, tr acc: 0.8429144620895386, val acc: 0.7662037014961243\n",
      "Epoch #181, tr loss: 0.3841158449649811, val loss: 0.49582087993621826, tr acc: 0.8429144620895386, val acc: 0.7662037014961243\n",
      "    Early stopping: Best model updated.\n",
      "Epoch #182, tr loss: 0.38414502143859863, val loss: 0.49584659934043884, tr acc: 0.8429144620895386, val acc: 0.7662037014961243\n",
      "Epoch #183, tr loss: 0.3836726248264313, val loss: 0.4956713616847992, tr acc: 0.8429144620895386, val acc: 0.7662037014961243\n",
      "    Early stopping: Best model updated.\n",
      "Epoch #184, tr loss: 0.38365551829338074, val loss: 0.49513545632362366, tr acc: 0.8429144620895386, val acc: 0.7662037014961243\n",
      "    Early stopping: Best model updated.\n",
      "Epoch #185, tr loss: 0.383434534072876, val loss: 0.49488088488578796, tr acc: 0.8429144620895386, val acc: 0.7662037014961243\n",
      "    Early stopping: Best model updated.\n",
      "Epoch #186, tr loss: 0.38325485587120056, val loss: 0.495037704706192, tr acc: 0.8410762548446655, val acc: 0.7662037014961243\n",
      "Epoch #187, tr loss: 0.3830637037754059, val loss: 0.4958002269268036, tr acc: 0.8429144620895386, val acc: 0.7662037014961243\n",
      "Epoch #188, tr loss: 0.3828704357147217, val loss: 0.4956319034099579, tr acc: 0.8429144620895386, val acc: 0.7662037014961243\n",
      "Epoch #189, tr loss: 0.3827430307865143, val loss: 0.4961104691028595, tr acc: 0.8429144620895386, val acc: 0.7662037014961243\n",
      "Epoch #190, tr loss: 0.3825199007987976, val loss: 0.4956148564815521, tr acc: 0.8429144620895386, val acc: 0.7662037014961243\n",
      "Epoch #191, tr loss: 0.3823915421962738, val loss: 0.49568971991539, tr acc: 0.8429144620895386, val acc: 0.7662037014961243\n",
      "Epoch #192, tr loss: 0.38212311267852783, val loss: 0.49484264850616455, tr acc: 0.8429144620895386, val acc: 0.7662037014961243\n",
      "    Early stopping: Best model updated.\n",
      "Epoch #193, tr loss: 0.382242888212204, val loss: 0.49590250849723816, tr acc: 0.8429144620895386, val acc: 0.7662037014961243\n",
      "Epoch #194, tr loss: 0.38182735443115234, val loss: 0.49605584144592285, tr acc: 0.8429144620895386, val acc: 0.7662037014961243\n",
      "Epoch #195, tr loss: 0.3817330300807953, val loss: 0.49557003378868103, tr acc: 0.8429144620895386, val acc: 0.7662037014961243\n",
      "Epoch #196, tr loss: 0.3815789222717285, val loss: 0.4952056109905243, tr acc: 0.8429144620895386, val acc: 0.7662037014961243\n",
      "Epoch #197, tr loss: 0.38146790862083435, val loss: 0.4952968657016754, tr acc: 0.8429144620895386, val acc: 0.7662037014961243\n",
      "Epoch #198, tr loss: 0.3813598155975342, val loss: 0.4956696033477783, tr acc: 0.8429144620895386, val acc: 0.7662037014961243\n",
      "Epoch #199, tr loss: 0.38108929991722107, val loss: 0.49568554759025574, tr acc: 0.8429144620895386, val acc: 0.7662037014961243\n",
      "Training finished. Best model weights are restored.\n",
      "Test loss: 0.396543949842453, test acc: 0.8491619825363159\n"
     ]
    },
    {
     "data": {
      "image/png": "[encoded data removed]",
      "text/plain": [
       "<Figure size 640x480 with 1 Axes>"
      ]
     },
     "metadata": {},
     "output_type": "display_data"
    }
   ],
   "source": [
    "loss_fn = nn.BCELoss()  # Alternatives:\n",
    "                        #     Regression: MSELoss\n",
    "                        #     Binary classification: BCELoss\n",
    "                        #     Multi-class classification: CELoss (needs Softmax to be applied on network predictions if probabilities are needed; if only top category is needed (argmax), then no need for softmax\n",
    "\n",
    "n_max_epochs = 200\n",
    "learning_rate = 0.001\n",
    "batch_size = 32\n",
    "optimizer = torch.optim.Adam(bincl_model.parameters(), lr=learning_rate)\n",
    "\n",
    "train_losses = []\n",
    "val_losses = []\n",
    "train_accuracy = []\n",
    "val_accuracy = []\n",
    "best_bincl_model = None\n",
    "best_val_loss = float('inf')\n",
    "early_stopping_patience = 40\n",
    "last_early_stopping_update_ep_idx = 0\n",
    "\n",
    "for epoch_idx in range(n_max_epochs):\n",
    "\n",
    "    # training\n",
    "    bincl_model.train()\n",
    "    train_losses_in_epoch = []\n",
    "    train_accs_in_epoch = []\n",
    "\n",
    "    for train_batch_xs, train_batch_ys in minibatch_generator(inputs_train_t, labels_train_t):\n",
    "        optimizer.zero_grad()\n",
    "        train_batch_ys_pred = bincl_model(train_batch_xs)\n",
    "        loss = loss_fn(train_batch_ys_pred, train_batch_ys)\n",
    "        acc = bin_acc_fn(train_batch_ys_pred, train_batch_ys)\n",
    "\n",
    "        train_losses_in_epoch.append(loss.detach())    # 'loss.detach()' is stored in the list only, not 'loss' itself\n",
    "                                                       #     to avoid keeping the computational graph connected to\n",
    "                                                       #     all tensors stored in the 'train_losses_in_epoch' list\n",
    "        train_accs_in_epoch.append(acc)                # 'acc.detach()' is not needed, as the 'acc' tensor has no computational\n",
    "                                                       #     graph connected to it, since it comes from a no_grad environment\n",
    "        loss.backward()\n",
    "        optimizer.step()\n",
    "\n",
    "    train_losses_in_epoch = torch.tensor(train_losses_in_epoch)\n",
    "    train_accs_in_epoch = torch.tensor(train_accs_in_epoch)\n",
    "    avg_tr_epoch_loss = train_losses_in_epoch.mean()    # not exactly precise because of last (possibly) incomplete batch\n",
    "    avg_tr_epoch_acc = train_accs_in_epoch.mean()\n",
    "    train_losses.append(avg_tr_epoch_loss)\n",
    "    train_accuracy.append(avg_tr_epoch_acc)\n",
    "\n",
    "    # validation\n",
    "    bincl_model.eval()\n",
    "    val_losses_in_epoch = []\n",
    "    val_accs_in_epoch = []\n",
    "\n",
    "    for val_batch_xs, val_batch_ys in minibatch_generator(inputs_val_t, labels_val_t):\n",
    "        with torch.no_grad():                      # no need to compute gradients for validation predictions/losses\n",
    "            val_batch_ys_pred = bincl_model(val_batch_xs)\n",
    "        loss = loss_fn(val_batch_ys_pred, val_batch_ys)\n",
    "        acc = bin_acc_fn(val_batch_ys_pred, val_batch_ys)\n",
    "\n",
    "        val_losses_in_epoch.append(loss)    # 'loss.detach()' is not needed, again, as 'val_batch_ys_pred' was created in a no_grad environment\n",
    "                                            #     therefore 'loss' has no computational graph connected to it either\n",
    "        val_accs_in_epoch.append(acc)\n",
    "\n",
    "    val_losses_in_epoch = torch.tensor(val_losses_in_epoch)\n",
    "    val_accs_in_epoch = torch.tensor(val_accs_in_epoch)\n",
    "    avg_val_epoch_loss = val_losses_in_epoch.mean()    # not exactly precise because of last (possibly) incomplete batch\n",
    "    avg_val_epoch_acc = val_accs_in_epoch.mean()\n",
    "    val_losses.append(avg_val_epoch_loss)\n",
    "    val_accuracy.append(avg_val_epoch_acc)\n",
    "\n",
    "    # logging\n",
    "    print(f\"Epoch #{epoch_idx}, tr loss: {avg_tr_epoch_loss}, val loss: {avg_val_epoch_loss}, tr acc: {avg_tr_epoch_acc}, val acc: {avg_val_epoch_acc}\")\n",
    "\n",
    "    # early stopping: check if current weights give the lowest ever loss\n",
    "    if avg_val_epoch_loss < best_val_loss:\n",
    "        best_val_loss = avg_val_epoch_loss\n",
    "        best_bincl_model = copy.deepcopy(bincl_model)\n",
    "        last_early_stopping_update_ep_idx = epoch_idx\n",
    "        print(\"    Early stopping: Best model updated.\")\n",
    "\n",
    "    # early stopping: break if no update for a long time\n",
    "    if last_early_stopping_update_ep_idx + early_stopping_patience < epoch_idx:\n",
    "        print(\"Training is terminated by early stopping.\")\n",
    "        break\n",
    "\n",
    "    # (end of training loop)\n",
    "\n",
    "# restore best model (with lowest validation loss) saved by early stopping\n",
    "print(\"Training finished. Best model weights are restored.\")\n",
    "bincl_model = best_bincl_model\n",
    "\n",
    "# training has finished; evaluate trained model on test set (measure loss, accuracy on test set)\n",
    "test_ys_preds = []\n",
    "\n",
    "for test_batch_xs, _ in minibatch_generator(inputs_test_t, labels_test_t):    # if the whole test set evaluation fits into memory, no need to do batches here, can be done in one go\n",
    "    with torch.no_grad():                      # no need to compute gradients for validation predictions/losses\n",
    "        test_batch_ys_pred = bincl_model(test_batch_xs)\n",
    "        test_ys_preds.append(test_batch_ys_pred)     # not collecting losses, but all predictions\n",
    "                                                     # test_batch_ys_pred.detach() is not needed, again, as we are in a no_grad environment\n",
    "\n",
    "test_ys_preds = torch.cat(test_ys_preds, dim=0)\n",
    "test_loss = loss_fn(test_ys_preds, labels_test_t[:,None])\n",
    "test_acc = bin_acc_fn(test_ys_preds, labels_test_t[:,None])\n",
    "\n",
    "print(f\"Test loss: {test_loss}, test acc: {test_acc}\")\n",
    "\n",
    "# Plot training/val curves\n",
    "plt.plot(train_losses, label='Training')\n",
    "plt.plot(val_losses, label='Validation')\n",
    "plt.plot(train_accuracy, label='Training acc')\n",
    "plt.plot(val_accuracy, label='Validation acc')\n",
    "plt.xlabel('Epochs')\n",
    "plt.ylabel('BCE loss / Accuracy')\n",
    "plt.legend()\n",
    "plt.show()\n"
   ]
  },
  {
   "cell_type": "markdown",
   "id": "d5b70390-84ee-4eb1-83a8-63bfaa42c91b",
   "metadata": {
    "id": "d5b70390-84ee-4eb1-83a8-63bfaa42c91b"
   },
   "source": [
    "## Betanítás a PyTorch Dataset és DataLoader osztályainak felhasználásával"
   ]
  },
  {
   "cell_type": "code",
   "execution_count": null,
   "id": "6cb82278-4bb0-4ff2-a61c-a33ec8433867",
   "metadata": {
    "id": "6cb82278-4bb0-4ff2-a61c-a33ec8433867"
   },
   "outputs": [],
   "source": [
    "# instead of doing manual mini-batch iteration, use a data iterator (torch built in classes: torch.utils.data.Dataset, torch.utils.data.DataLoader)\n",
    "\n",
    "from torch.utils.data import Dataset, DataLoader\n",
    "\n",
    "# Custom Dataset subclass\n",
    "class BinaryClassificationDataset(Dataset):\n",
    "    def __init__(self, input_split, labels_split):\n",
    "        self.xs = torch.tensor(input_split, dtype=torch.float32)\n",
    "        self.ys = torch.tensor(labels_split, dtype=torch.float32)\n",
    "        # (true) labels dtypes:\n",
    "        # Regression: float32 (coninuous values)\n",
    "        # Binary classification: float32 (probability)\n",
    "        # Multi-class classification: int64 (category indices for CELoss)\n",
    "\n",
    "    def __len__(self):\n",
    "        return self.xs.shape[0]\n",
    "\n",
    "    # Note: not the most efficient if data is small, batches are large (so that __getitem__ is called many times)\n",
    "    def __getitem__(self, idx):\n",
    "        return self.xs[idx, :], self.ys[idx, None]      # returning: (tensor(n_input_vars,), tensor(1,))\n",
    "                                                        # DataLoader will yield: (tensor(batch_size, n_input_vars), tensor(batch_size, 1))\n",
    "\n",
    "\n"
   ]
  },
  {
   "cell_type": "code",
   "execution_count": null,
   "id": "3487dcba-6ec0-40a2-a6d8-d9529260c93e",
   "metadata": {
    "id": "3487dcba-6ec0-40a2-a6d8-d9529260c93e"
   },
   "outputs": [],
   "source": [
    "# using built-in torch.utils.data.DataLoader to iterate dataset\n",
    "\n",
    "train_dataset = BinaryClassificationDataset(inputs_train, labels_train)\n",
    "val_dataset = BinaryClassificationDataset(inputs_val, labels_val)\n",
    "test_dataset = BinaryClassificationDataset(inputs_test, labels_test)\n",
    "\n",
    "dataloader_train = DataLoader(train_dataset, batch_size=32, shuffle=True)\n",
    "dataloader_val = DataLoader(val_dataset, batch_size=32, shuffle=True)\n",
    "dataloader_test = DataLoader(test_dataset, batch_size=32, shuffle=False)   # no need to shuffle test set! this way, the outputs from the test iterator are in the same order as the original 'test_dataset'\n"
   ]
  },
  {
   "cell_type": "code",
   "execution_count": null,
   "id": "6f94a96b-edc1-45b3-b99c-958baa76e3bd",
   "metadata": {
    "colab": {
     "base_uri": "https://localhost:8080/",
     "height": 1000
    },
    "id": "6f94a96b-edc1-45b3-b99c-958baa76e3bd",
    "outputId": "82f0c8cd-94ea-4831-8224-45f2b7184f9a"
   },
   "outputs": [
    {
     "name": "stdout",
     "output_type": "stream",
     "text": [
      "Epoch #0, tr loss: 0.671292781829834, val loss: 0.6666404604911804, tr acc: 0.6153074502944946, val acc: 0.6099537014961243\n",
      "    Early stopping: Best model updated.\n",
      "Epoch #1, tr loss: 0.6575266122817993, val loss: 0.6564345955848694, tr acc: 0.6153074502944946, val acc: 0.6018518805503845\n",
      "    Early stopping: Best model updated.\n",
      "Epoch #2, tr loss: 0.6417747139930725, val loss: 0.6399113535881042, tr acc: 0.6153074502944946, val acc: 0.6059027910232544\n",
      "    Early stopping: Best model updated.\n",
      "Epoch #3, tr loss: 0.6208410263061523, val loss: 0.6152830719947815, tr acc: 0.6161430478096008, val acc: 0.6140046119689941\n",
      "    Early stopping: Best model updated.\n",
      "Epoch #4, tr loss: 0.5998163819313049, val loss: 0.5984547734260559, tr acc: 0.6333556175231934, val acc: 0.6568287014961243\n",
      "    Early stopping: Best model updated.\n",
      "Epoch #5, tr loss: 0.5686755180358887, val loss: 0.5818830132484436, tr acc: 0.7090574502944946, val acc: 0.7309028506278992\n",
      "    Early stopping: Best model updated.\n",
      "Epoch #6, tr loss: 0.5364552140235901, val loss: 0.5602667927742004, tr acc: 0.7862633466720581, val acc: 0.7309028506278992\n",
      "    Early stopping: Best model updated.\n",
      "Epoch #7, tr loss: 0.5052445530891418, val loss: 0.5336425304412842, tr acc: 0.79996657371521, val acc: 0.7390046119689941\n",
      "    Early stopping: Best model updated.\n",
      "Epoch #8, tr loss: 0.4882814884185791, val loss: 0.5314839482307434, tr acc: 0.7991309762001038, val acc: 0.7390046119689941\n",
      "    Early stopping: Best model updated.\n",
      "Epoch #9, tr loss: 0.47705504298210144, val loss: 0.5456452369689941, tr acc: 0.79996657371521, val acc: 0.7349537014961243\n",
      "Epoch #10, tr loss: 0.4731519818305969, val loss: 0.5224388241767883, tr acc: 0.7966243624687195, val acc: 0.7523148059844971\n",
      "    Early stopping: Best model updated.\n",
      "Epoch #11, tr loss: 0.4707205295562744, val loss: 0.5238901376724243, tr acc: 0.7949531674385071, val acc: 0.7442129254341125\n",
      "Epoch #12, tr loss: 0.46172720193862915, val loss: 0.5250437259674072, tr acc: 0.7982954978942871, val acc: 0.7401620745658875\n",
      "Epoch #13, tr loss: 0.45960021018981934, val loss: 0.5102183222770691, tr acc: 0.7991309762001038, val acc: 0.7442129254341125\n",
      "    Early stopping: Best model updated.\n",
      "Epoch #14, tr loss: 0.4540807008743286, val loss: 0.5078744292259216, tr acc: 0.8018048405647278, val acc: 0.7401620745658875\n",
      "    Early stopping: Best model updated.\n",
      "Epoch #15, tr loss: 0.45105281472206116, val loss: 0.5027880668640137, tr acc: 0.8026403784751892, val acc: 0.7442129254341125\n",
      "    Early stopping: Best model updated.\n",
      "Epoch #16, tr loss: 0.44974300265312195, val loss: 0.5153934359550476, tr acc: 0.8036430478096008, val acc: 0.7442129254341125\n",
      "Epoch #17, tr loss: 0.4496869444847107, val loss: 0.5118647217750549, tr acc: 0.7991309762001038, val acc: 0.7401620745658875\n",
      "Epoch #18, tr loss: 0.4461573660373688, val loss: 0.522796094417572, tr acc: 0.8054813146591187, val acc: 0.7505787014961243\n",
      "Epoch #19, tr loss: 0.4414289891719818, val loss: 0.5170194506645203, tr acc: 0.8079879879951477, val acc: 0.7465278506278992\n",
      "Epoch #20, tr loss: 0.43785274028778076, val loss: 0.5129632949829102, tr acc: 0.8071523904800415, val acc: 0.7505787014961243\n",
      "Epoch #21, tr loss: 0.44088250398635864, val loss: 0.5185007452964783, tr acc: 0.8074866533279419, val acc: 0.7546296119689941\n",
      "Epoch #22, tr loss: 0.4362510144710541, val loss: 0.515501081943512, tr acc: 0.8163436055183411, val acc: 0.7546296119689941\n",
      "Epoch #23, tr loss: 0.4350154995918274, val loss: 0.5298565030097961, tr acc: 0.8099932670593262, val acc: 0.7424768805503845\n",
      "Epoch #24, tr loss: 0.4353415369987488, val loss: 0.5020191073417664, tr acc: 0.813669741153717, val acc: 0.7638888359069824\n",
      "    Early stopping: Best model updated.\n",
      "Epoch #25, tr loss: 0.43127384781837463, val loss: 0.4967235028743744, tr acc: 0.8181818127632141, val acc: 0.7638888359069824\n",
      "    Early stopping: Best model updated.\n",
      "Epoch #26, tr loss: 0.43247994780540466, val loss: 0.5493651032447815, tr acc: 0.8191844820976257, val acc: 0.7314814925193787\n",
      "Epoch #27, tr loss: 0.433856725692749, val loss: 0.525623619556427, tr acc: 0.8158422112464905, val acc: 0.7476851940155029\n",
      "Epoch #28, tr loss: 0.4299653172492981, val loss: 0.49885204434394836, tr acc: 0.8138368725776672, val acc: 0.7627314925193787\n",
      "Epoch #29, tr loss: 0.43186715245246887, val loss: 0.5064622759819031, tr acc: 0.8156751394271851, val acc: 0.7679398059844971\n",
      "Epoch #30, tr loss: 0.42742404341697693, val loss: 0.5124098658561707, tr acc: 0.821858286857605, val acc: 0.7505787014961243\n",
      "Epoch #31, tr loss: 0.4239952266216278, val loss: 0.49501273036003113, tr acc: 0.8145053386688232, val acc: 0.7679398059844971\n",
      "    Early stopping: Best model updated.\n",
      "Epoch #32, tr loss: 0.4280197024345398, val loss: 0.5158260464668274, tr acc: 0.811831533908844, val acc: 0.7517361640930176\n",
      "Epoch #33, tr loss: 0.426593542098999, val loss: 0.5155392289161682, tr acc: 0.8128342628479004, val acc: 0.7598379254341125\n",
      "Epoch #34, tr loss: 0.4301571547985077, val loss: 0.5346273183822632, tr acc: 0.8203542828559875, val acc: 0.7436342239379883\n",
      "Epoch #35, tr loss: 0.4283824563026428, val loss: 0.5192191004753113, tr acc: 0.8148396015167236, val acc: 0.7557870745658875\n",
      "Epoch #36, tr loss: 0.42418015003204346, val loss: 0.5028752684593201, tr acc: 0.8190174102783203, val acc: 0.7638888359069824\n",
      "Epoch #37, tr loss: 0.4232966899871826, val loss: 0.5275988578796387, tr acc: 0.8193516135215759, val acc: 0.7476851940155029\n",
      "Epoch #38, tr loss: 0.42239630222320557, val loss: 0.5065591931343079, tr acc: 0.8191844820976257, val acc: 0.7598379254341125\n",
      "Epoch #39, tr loss: 0.4220573306083679, val loss: 0.5090426802635193, tr acc: 0.8220254182815552, val acc: 0.7638888359069824\n",
      "Epoch #40, tr loss: 0.42382362484931946, val loss: 0.5158663392066956, tr acc: 0.8185160756111145, val acc: 0.7505787014961243\n",
      "Epoch #41, tr loss: 0.42016011476516724, val loss: 0.5189135670661926, tr acc: 0.8163436055183411, val acc: 0.7505787014961243\n",
      "Epoch #42, tr loss: 0.4209252595901489, val loss: 0.5422013401985168, tr acc: 0.8238636255264282, val acc: 0.7384259104728699\n",
      "Epoch #43, tr loss: 0.41971784830093384, val loss: 0.5213704109191895, tr acc: 0.8236965537071228, val acc: 0.7505787014961243\n",
      "Epoch #44, tr loss: 0.42173677682876587, val loss: 0.5261901021003723, tr acc: 0.8248662948608398, val acc: 0.7702546119689941\n",
      "Epoch #45, tr loss: 0.42013898491859436, val loss: 0.5171912312507629, tr acc: 0.8228609561920166, val acc: 0.7546296119689941\n",
      "Epoch #46, tr loss: 0.4183144271373749, val loss: 0.5280901789665222, tr acc: 0.8238636255264282, val acc: 0.7609953880310059\n",
      "Epoch #47, tr loss: 0.42194506525993347, val loss: 0.5032345056533813, tr acc: 0.8221925497055054, val acc: 0.7690971493721008\n",
      "Epoch #48, tr loss: 0.4199686646461487, val loss: 0.5131454467773438, tr acc: 0.821189820766449, val acc: 0.7546296119689941\n",
      "Epoch #49, tr loss: 0.4162265956401825, val loss: 0.5179707407951355, tr acc: 0.8220254182815552, val acc: 0.7557870745658875\n",
      "Epoch #50, tr loss: 0.41781336069107056, val loss: 0.5405915379524231, tr acc: 0.8267045021057129, val acc: 0.756944477558136\n",
      "Epoch #51, tr loss: 0.41363775730133057, val loss: 0.5177731513977051, tr acc: 0.8245320916175842, val acc: 0.7609953880310059\n",
      "Epoch #52, tr loss: 0.41705748438835144, val loss: 0.5307902097702026, tr acc: 0.8238636255264282, val acc: 0.7424768805503845\n",
      "Epoch #53, tr loss: 0.42170387506484985, val loss: 0.5038101077079773, tr acc: 0.82503342628479, val acc: 0.7690971493721008\n",
      "Epoch #54, tr loss: 0.413720965385437, val loss: 0.5271726250648499, tr acc: 0.8255347609519958, val acc: 0.7424768805503845\n",
      "Epoch #55, tr loss: 0.41137081384658813, val loss: 0.5133259892463684, tr acc: 0.826370358467102, val acc: 0.7690971493721008\n",
      "Epoch #56, tr loss: 0.4139370620250702, val loss: 0.5074892044067383, tr acc: 0.8265374302864075, val acc: 0.7546296119689941\n",
      "Epoch #57, tr loss: 0.41241341829299927, val loss: 0.5282375812530518, tr acc: 0.8283756375312805, val acc: 0.7609953880310059\n",
      "Epoch #58, tr loss: 0.4153297543525696, val loss: 0.5090017914772034, tr acc: 0.8230280876159668, val acc: 0.758680522441864\n",
      "Epoch #59, tr loss: 0.411090224981308, val loss: 0.5070289969444275, tr acc: 0.8255347609519958, val acc: 0.7731481194496155\n",
      "Epoch #60, tr loss: 0.411880224943161, val loss: 0.5277343988418579, tr acc: 0.8246991634368896, val acc: 0.7609953880310059\n",
      "Epoch #61, tr loss: 0.4160500466823578, val loss: 0.5298290252685547, tr acc: 0.8231951594352722, val acc: 0.7557870745658875\n",
      "Epoch #62, tr loss: 0.41351813077926636, val loss: 0.5043362975120544, tr acc: 0.8275400996208191, val acc: 0.7650462985038757\n",
      "Epoch #63, tr loss: 0.41028955578804016, val loss: 0.5247836112976074, tr acc: 0.8230280876159668, val acc: 0.7505787014961243\n",
      "Epoch #64, tr loss: 0.41388651728630066, val loss: 0.507519543170929, tr acc: 0.8201871514320374, val acc: 0.7731481194496155\n",
      "Epoch #65, tr loss: 0.4120710492134094, val loss: 0.5277352333068848, tr acc: 0.8283756375312805, val acc: 0.756944477558136\n",
      "Epoch #66, tr loss: 0.4138771593570709, val loss: 0.5202698111534119, tr acc: 0.8241978883743286, val acc: 0.7557870745658875\n",
      "Epoch #67, tr loss: 0.41309019923210144, val loss: 0.5039232969284058, tr acc: 0.8310494422912598, val acc: 0.7679398059844971\n",
      "Epoch #68, tr loss: 0.41293931007385254, val loss: 0.5346994400024414, tr acc: 0.8313837051391602, val acc: 0.741319477558136\n",
      "Epoch #69, tr loss: 0.412704735994339, val loss: 0.4936337172985077, tr acc: 0.8267045021057129, val acc: 0.7731481194496155\n",
      "    Early stopping: Best model updated.\n",
      "Epoch #70, tr loss: 0.412887305021286, val loss: 0.5213314890861511, tr acc: 0.8285427689552307, val acc: 0.7505787014961243\n",
      "Epoch #71, tr loss: 0.41471609473228455, val loss: 0.5041177272796631, tr acc: 0.8203542828559875, val acc: 0.7731481194496155\n",
      "Epoch #72, tr loss: 0.4098416268825531, val loss: 0.5277723670005798, tr acc: 0.8293783664703369, val acc: 0.741319477558136\n",
      "Epoch #73, tr loss: 0.40627044439315796, val loss: 0.5089790225028992, tr acc: 0.8310494422912598, val acc: 0.7702546119689941\n",
      "Epoch #74, tr loss: 0.41509151458740234, val loss: 0.5397614240646362, tr acc: 0.8258690237998962, val acc: 0.7528935074806213\n",
      "Epoch #75, tr loss: 0.40852534770965576, val loss: 0.5243873000144958, tr acc: 0.8302139043807983, val acc: 0.7546296119689941\n",
      "Epoch #76, tr loss: 0.40840864181518555, val loss: 0.5243135094642639, tr acc: 0.8330548405647278, val acc: 0.7581018805503845\n",
      "Epoch #77, tr loss: 0.40726304054260254, val loss: 0.49361279606819153, tr acc: 0.83121657371521, val acc: 0.7719907760620117\n",
      "    Early stopping: Best model updated.\n",
      "Epoch #78, tr loss: 0.40770548582077026, val loss: 0.5094888806343079, tr acc: 0.8228609561920166, val acc: 0.774305522441864\n",
      "Epoch #79, tr loss: 0.40764427185058594, val loss: 0.5434302091598511, tr acc: 0.8348930478096008, val acc: 0.7251157760620117\n",
      "Epoch #80, tr loss: 0.4042140245437622, val loss: 0.5028440952301025, tr acc: 0.8347259163856506, val acc: 0.7783564925193787\n",
      "Epoch #81, tr loss: 0.40461266040802, val loss: 0.5069459080696106, tr acc: 0.8320521116256714, val acc: 0.7575231194496155\n",
      "Epoch #82, tr loss: 0.405865341424942, val loss: 0.515580952167511, tr acc: 0.8357285857200623, val acc: 0.7557870745658875\n",
      "Epoch #83, tr loss: 0.404058575630188, val loss: 0.5153762698173523, tr acc: 0.8337233066558838, val acc: 0.7598379254341125\n",
      "Epoch #84, tr loss: 0.40694379806518555, val loss: 0.503955602645874, tr acc: 0.8302139043807983, val acc: 0.7731481194496155\n",
      "Epoch #85, tr loss: 0.41285455226898193, val loss: 0.5210121273994446, tr acc: 0.8330548405647278, val acc: 0.7557870745658875\n",
      "Epoch #86, tr loss: 0.4055773913860321, val loss: 0.5108718276023865, tr acc: 0.8338903784751892, val acc: 0.7795138359069824\n",
      "Epoch #87, tr loss: 0.4059281647205353, val loss: 0.5287895798683167, tr acc: 0.8385695219039917, val acc: 0.7453703880310059\n",
      "Epoch #88, tr loss: 0.4081159830093384, val loss: 0.49819517135620117, tr acc: 0.8330548405647278, val acc: 0.7667824625968933\n",
      "Epoch #89, tr loss: 0.406010240316391, val loss: 0.5164822936058044, tr acc: 0.8357285857200623, val acc: 0.7557870745658875\n",
      "Epoch #90, tr loss: 0.40665844082832336, val loss: 0.5169317126274109, tr acc: 0.8323863744735718, val acc: 0.741319477558136\n",
      "Epoch #91, tr loss: 0.4064862132072449, val loss: 0.5239753127098083, tr acc: 0.8358957171440125, val acc: 0.7557870745658875\n",
      "Epoch #92, tr loss: 0.40342363715171814, val loss: 0.5123034119606018, tr acc: 0.8384023904800415, val acc: 0.7505787014961243\n",
      "Epoch #93, tr loss: 0.404247522354126, val loss: 0.5127629637718201, tr acc: 0.8402406573295593, val acc: 0.7546296119689941\n",
      "Epoch #94, tr loss: 0.4033181369304657, val loss: 0.510015070438385, tr acc: 0.8384023904800415, val acc: 0.7494212985038757\n",
      "Epoch #95, tr loss: 0.40784621238708496, val loss: 0.50471431016922, tr acc: 0.8392379879951477, val acc: 0.774305522441864\n",
      "Epoch #96, tr loss: 0.404091477394104, val loss: 0.5406355261802673, tr acc: 0.8402406573295593, val acc: 0.741319477558136\n",
      "Epoch #97, tr loss: 0.40398070216178894, val loss: 0.5218461155891418, tr acc: 0.8375668525695801, val acc: 0.7505787014961243\n",
      "Epoch #98, tr loss: 0.40252068638801575, val loss: 0.5323004126548767, tr acc: 0.8394050598144531, val acc: 0.7505787014961243\n",
      "Epoch #99, tr loss: 0.4037168622016907, val loss: 0.523596465587616, tr acc: 0.8367313146591187, val acc: 0.7505787014961243\n",
      "Epoch #100, tr loss: 0.405658483505249, val loss: 0.5081942677497864, tr acc: 0.8368983864784241, val acc: 0.758680522441864\n",
      "Epoch #101, tr loss: 0.4017590880393982, val loss: 0.5140200257301331, tr acc: 0.8367313146591187, val acc: 0.758680522441864\n",
      "Epoch #102, tr loss: 0.40370815992355347, val loss: 0.5310959219932556, tr acc: 0.8375668525695801, val acc: 0.7424768805503845\n",
      "Epoch #103, tr loss: 0.40472412109375, val loss: 0.499362975358963, tr acc: 0.8293783664703369, val acc: 0.7731481194496155\n",
      "Epoch #104, tr loss: 0.40722158551216125, val loss: 0.4987476170063019, tr acc: 0.8332219123840332, val acc: 0.7667824625968933\n",
      "Epoch #105, tr loss: 0.4030302166938782, val loss: 0.4958473742008209, tr acc: 0.8394050598144531, val acc: 0.7690971493721008\n",
      "Epoch #106, tr loss: 0.4050181806087494, val loss: 0.5042149424552917, tr acc: 0.8367313146591187, val acc: 0.758680522441864\n",
      "Epoch #107, tr loss: 0.4017421007156372, val loss: 0.5079995393753052, tr acc: 0.8394050598144531, val acc: 0.7557870745658875\n",
      "Epoch #108, tr loss: 0.3997812271118164, val loss: 0.5061290264129639, tr acc: 0.8365641832351685, val acc: 0.7534721493721008\n",
      "Epoch #109, tr loss: 0.4026179611682892, val loss: 0.5025967955589294, tr acc: 0.8404077887535095, val acc: 0.7627314925193787\n",
      "Epoch #110, tr loss: 0.3985326588153839, val loss: 0.503891110420227, tr acc: 0.8402406573295593, val acc: 0.7638888359069824\n",
      "Epoch #111, tr loss: 0.39695239067077637, val loss: 0.5075645446777344, tr acc: 0.8402406573295593, val acc: 0.758680522441864\n",
      "Epoch #112, tr loss: 0.39696192741394043, val loss: 0.5113217234611511, tr acc: 0.8355615139007568, val acc: 0.7546296119689941\n",
      "Epoch #113, tr loss: 0.3989671766757965, val loss: 0.49309659004211426, tr acc: 0.8412432670593262, val acc: 0.7615740895271301\n",
      "    Early stopping: Best model updated.\n",
      "Epoch #114, tr loss: 0.3979285955429077, val loss: 0.5196465849876404, tr acc: 0.84375, val acc: 0.7424768805503845\n",
      "Epoch #115, tr loss: 0.4005205035209656, val loss: 0.4903409481048584, tr acc: 0.8404077887535095, val acc: 0.7708333134651184\n",
      "    Early stopping: Best model updated.\n",
      "Epoch #116, tr loss: 0.4024447202682495, val loss: 0.5149238705635071, tr acc: 0.8368983864784241, val acc: 0.7517361640930176\n",
      "Epoch #117, tr loss: 0.39549750089645386, val loss: 0.5143560767173767, tr acc: 0.8410762548446655, val acc: 0.7546296119689941\n",
      "Epoch #118, tr loss: 0.3994786739349365, val loss: 0.5035010576248169, tr acc: 0.8377339243888855, val acc: 0.758680522441864\n",
      "Epoch #119, tr loss: 0.39804455637931824, val loss: 0.5257614254951477, tr acc: 0.8402406573295593, val acc: 0.7714120745658875\n",
      "Epoch #120, tr loss: 0.39658123254776, val loss: 0.5220843553543091, tr acc: 0.8367313146591187, val acc: 0.7546296119689941\n",
      "Epoch #121, tr loss: 0.40146905183792114, val loss: 0.5097835063934326, tr acc: 0.8375668525695801, val acc: 0.7638888359069824\n",
      "Epoch #122, tr loss: 0.3995256721973419, val loss: 0.5098087787628174, tr acc: 0.8377339243888855, val acc: 0.758680522441864\n",
      "Epoch #123, tr loss: 0.40139326453208923, val loss: 0.5124337673187256, tr acc: 0.8395721912384033, val acc: 0.758680522441864\n",
      "Epoch #124, tr loss: 0.3996244966983795, val loss: 0.5241839289665222, tr acc: 0.8387366533279419, val acc: 0.7465278506278992\n",
      "Epoch #125, tr loss: 0.39505332708358765, val loss: 0.5065355896949768, tr acc: 0.8392379879951477, val acc: 0.7638888359069824\n",
      "Epoch #126, tr loss: 0.4011386036872864, val loss: 0.5367987751960754, tr acc: 0.8387366533279419, val acc: 0.7465278506278992\n",
      "Epoch #127, tr loss: 0.3985966444015503, val loss: 0.4953652322292328, tr acc: 0.8358957171440125, val acc: 0.7679398059844971\n",
      "Epoch #128, tr loss: 0.40011388063430786, val loss: 0.5026065707206726, tr acc: 0.8387366533279419, val acc: 0.7627314925193787\n",
      "Epoch #129, tr loss: 0.3966144025325775, val loss: 0.4899469316005707, tr acc: 0.8385695219039917, val acc: 0.7679398059844971\n",
      "    Early stopping: Best model updated.\n",
      "Epoch #130, tr loss: 0.40025702118873596, val loss: 0.532630980014801, tr acc: 0.8397393226623535, val acc: 0.7557870745658875\n",
      "Epoch #131, tr loss: 0.39523521065711975, val loss: 0.5239065289497375, tr acc: 0.8402406573295593, val acc: 0.7557870745658875\n",
      "Epoch #132, tr loss: 0.40219953656196594, val loss: 0.5248271822929382, tr acc: 0.8387366533279419, val acc: 0.7465278506278992\n",
      "Epoch #133, tr loss: 0.3976059556007385, val loss: 0.5034123063087463, tr acc: 0.8373997807502747, val acc: 0.7598379254341125\n",
      "Epoch #134, tr loss: 0.40005815029144287, val loss: 0.4959580898284912, tr acc: 0.8338903784751892, val acc: 0.7638888359069824\n",
      "Epoch #135, tr loss: 0.39939117431640625, val loss: 0.5225362777709961, tr acc: 0.8320521116256714, val acc: 0.7505787014961243\n",
      "Epoch #136, tr loss: 0.39725348353385925, val loss: 0.5125673413276672, tr acc: 0.8385695219039917, val acc: 0.758680522441864\n",
      "Epoch #137, tr loss: 0.3929618000984192, val loss: 0.506446123123169, tr acc: 0.8384023904800415, val acc: 0.7679398059844971\n",
      "Epoch #138, tr loss: 0.3988695442676544, val loss: 0.5235785245895386, tr acc: 0.8405748605728149, val acc: 0.7505787014961243\n",
      "Epoch #139, tr loss: 0.39429035782814026, val loss: 0.5123975276947021, tr acc: 0.8357285857200623, val acc: 0.7702546119689941\n",
      "Epoch #140, tr loss: 0.39335042238235474, val loss: 0.5272074341773987, tr acc: 0.8439171314239502, val acc: 0.7546296119689941\n",
      "Epoch #141, tr loss: 0.3944367468357086, val loss: 0.501636803150177, tr acc: 0.8394050598144531, val acc: 0.7638888359069824\n",
      "Epoch #142, tr loss: 0.398242712020874, val loss: 0.5240074396133423, tr acc: 0.8358957171440125, val acc: 0.7557870745658875\n",
      "Epoch #143, tr loss: 0.39522355794906616, val loss: 0.4980204999446869, tr acc: 0.8412432670593262, val acc: 0.7679398059844971\n",
      "Epoch #144, tr loss: 0.39427781105041504, val loss: 0.5030879378318787, tr acc: 0.8384023904800415, val acc: 0.7638888359069824\n",
      "Epoch #145, tr loss: 0.3945237696170807, val loss: 0.5332894921302795, tr acc: 0.8385695219039917, val acc: 0.7557870745658875\n",
      "Epoch #146, tr loss: 0.39192092418670654, val loss: 0.5379686951637268, tr acc: 0.8402406573295593, val acc: 0.7476851940155029\n",
      "Epoch #147, tr loss: 0.3945292830467224, val loss: 0.5165777802467346, tr acc: 0.8385695219039917, val acc: 0.7546296119689941\n",
      "Epoch #148, tr loss: 0.3928494155406952, val loss: 0.5105018019676208, tr acc: 0.843081533908844, val acc: 0.7598379254341125\n",
      "Epoch #149, tr loss: 0.398594468832016, val loss: 0.5060386061668396, tr acc: 0.8368983864784241, val acc: 0.7679398059844971\n",
      "Epoch #150, tr loss: 0.3955741822719574, val loss: 0.5154235363006592, tr acc: 0.8348930478096008, val acc: 0.7609953880310059\n",
      "Epoch #151, tr loss: 0.3958164155483246, val loss: 0.5169339776039124, tr acc: 0.8273730278015137, val acc: 0.7598379254341125\n",
      "Epoch #152, tr loss: 0.3925934433937073, val loss: 0.5061217546463013, tr acc: 0.8404077887535095, val acc: 0.7679398059844971\n",
      "Epoch #153, tr loss: 0.3949379026889801, val loss: 0.5017303228378296, tr acc: 0.835060179233551, val acc: 0.7679398059844971\n",
      "Epoch #154, tr loss: 0.3931781053543091, val loss: 0.5187633633613586, tr acc: 0.8422459959983826, val acc: 0.7598379254341125\n",
      "Epoch #155, tr loss: 0.39550909399986267, val loss: 0.5275906324386597, tr acc: 0.8358957171440125, val acc: 0.7476851940155029\n",
      "Epoch #156, tr loss: 0.3974514603614807, val loss: 0.49482956528663635, tr acc: 0.8352273106575012, val acc: 0.7719907760620117\n",
      "Epoch #157, tr loss: 0.39063501358032227, val loss: 0.5071125626564026, tr acc: 0.8402406573295593, val acc: 0.758680522441864\n",
      "Epoch #158, tr loss: 0.3884715437889099, val loss: 0.5007409453392029, tr acc: 0.841911792755127, val acc: 0.7598379254341125\n",
      "Epoch #159, tr loss: 0.3953535556793213, val loss: 0.5221703052520752, tr acc: 0.8367313146591187, val acc: 0.7557870745658875\n",
      "Epoch #160, tr loss: 0.3914148211479187, val loss: 0.5122681260108948, tr acc: 0.8402406573295593, val acc: 0.758680522441864\n",
      "Epoch #161, tr loss: 0.3917418122291565, val loss: 0.5232402682304382, tr acc: 0.8400735259056091, val acc: 0.7557870745658875\n",
      "Epoch #162, tr loss: 0.39130252599716187, val loss: 0.4967195689678192, tr acc: 0.8457553386688232, val acc: 0.7638888359069824\n",
      "Epoch #163, tr loss: 0.3940218985080719, val loss: 0.5216349959373474, tr acc: 0.8375668525695801, val acc: 0.7598379254341125\n",
      "Epoch #164, tr loss: 0.39235618710517883, val loss: 0.509457528591156, tr acc: 0.8387366533279419, val acc: 0.7598379254341125\n",
      "Epoch #165, tr loss: 0.3887695372104645, val loss: 0.5058614611625671, tr acc: 0.8375668525695801, val acc: 0.7679398059844971\n",
      "Epoch #166, tr loss: 0.3891502916812897, val loss: 0.5075601935386658, tr acc: 0.8385695219039917, val acc: 0.7546296119689941\n",
      "Epoch #167, tr loss: 0.3893739879131317, val loss: 0.506493330001831, tr acc: 0.8392379879951477, val acc: 0.7546296119689941\n",
      "Epoch #168, tr loss: 0.39059314131736755, val loss: 0.49059441685676575, tr acc: 0.8395721912384033, val acc: 0.7760416865348816\n",
      "Epoch #169, tr loss: 0.39124536514282227, val loss: 0.5081396698951721, tr acc: 0.8414103984832764, val acc: 0.7638888359069824\n",
      "Epoch #170, tr loss: 0.3976796865463257, val loss: 0.5472399592399597, tr acc: 0.8323863744735718, val acc: 0.7488425374031067\n",
      "Training is terminated by early stopping.\n",
      "Training finished. Best model weights are restored.\n",
      "Test loss: 0.3723623752593994, test acc: 0.8491619825363159\n"
     ]
    },
    {
     "data": {
      "image/png": "[encoded data removed]",
      "text/plain": [
       "<Figure size 640x480 with 1 Axes>"
      ]
     },
     "metadata": {},
     "output_type": "display_data"
    }
   ],
   "source": [
    "\n",
    "loss_fn = nn.BCELoss()  # Alternatives:\n",
    "                        #     Regression: MSELoss\n",
    "                        #     Binary classification: BCELoss\n",
    "                        #     Multi-class classification: CELoss (needs Softmax to be applied on network predictions if probabilities are needed; if only top category is needed (argmax), then no need for softmax\n",
    "\n",
    "n_max_epochs = 200\n",
    "learning_rate = 0.001\n",
    "optimizer = torch.optim.Adam(bincl_model.parameters(), lr=learning_rate)\n",
    "\n",
    "train_losses = []\n",
    "val_losses = []\n",
    "train_accuracy = []\n",
    "val_accuracy = []\n",
    "best_bincl_model = None\n",
    "best_val_loss = float('inf')\n",
    "early_stopping_patience = 40\n",
    "last_early_stopping_update_ep_idx = 0\n",
    "\n",
    "for epoch_idx in range(n_max_epochs):\n",
    "\n",
    "    # training\n",
    "    bincl_model.train()\n",
    "    train_losses_in_epoch = []\n",
    "    train_accs_in_epoch = []\n",
    "\n",
    "    for train_batch_xs, train_batch_ys in dataloader_train:\n",
    "\n",
    "        optimizer.zero_grad()\n",
    "        train_batch_ys_pred = bincl_model(train_batch_xs)\n",
    "        loss = loss_fn(train_batch_ys_pred, train_batch_ys)\n",
    "        acc = bin_acc_fn(train_batch_ys_pred, train_batch_ys)\n",
    "\n",
    "        train_losses_in_epoch.append(loss.detach())    # 'loss.detach()' is stored in the list only, not 'loss' itself\n",
    "                                                       #     to avoid keeping the computational graph connected to\n",
    "                                                       #     all tensors stored in the 'train_losses_in_epoch' list\n",
    "        train_accs_in_epoch.append(acc)                # 'acc.detach()' is not needed, as the 'acc' tensor has no computational\n",
    "                                                       #     graph connected to it, since it comes from a no_grad environment\n",
    "        loss.backward()\n",
    "        optimizer.step()\n",
    "\n",
    "    train_losses_in_epoch = torch.tensor(train_losses_in_epoch)\n",
    "    train_accs_in_epoch = torch.tensor(train_accs_in_epoch)\n",
    "    avg_tr_epoch_loss = train_losses_in_epoch.mean()    # not exactly precise because of last (possibly) incomplete batch\n",
    "    avg_tr_epoch_acc = train_accs_in_epoch.mean()\n",
    "    train_losses.append(avg_tr_epoch_loss)\n",
    "    train_accuracy.append(avg_tr_epoch_acc)\n",
    "\n",
    "    # validation\n",
    "    bincl_model.eval()\n",
    "    val_losses_in_epoch = []\n",
    "    val_accs_in_epoch = []\n",
    "\n",
    "    for val_batch_xs, val_batch_ys in dataloader_val:\n",
    "\n",
    "        with torch.no_grad():                      # no need to compute gradients for validation predictions/losses\n",
    "            val_batch_ys_pred = bincl_model(val_batch_xs)\n",
    "        loss = loss_fn(val_batch_ys_pred, val_batch_ys)\n",
    "        acc = bin_acc_fn(val_batch_ys_pred, val_batch_ys)\n",
    "\n",
    "        val_losses_in_epoch.append(loss)    # 'loss.detach()' is not needed, again, as 'val_batch_ys_pred' was created in a no_grad environment\n",
    "                                            #     therefore 'loss' has no computational graph connected to it either\n",
    "        val_accs_in_epoch.append(acc)\n",
    "\n",
    "    val_losses_in_epoch = torch.tensor(val_losses_in_epoch)\n",
    "    val_accs_in_epoch = torch.tensor(val_accs_in_epoch)\n",
    "    avg_val_epoch_loss = val_losses_in_epoch.mean()    # not exactly precise because of last (possibly) incomplete batch\n",
    "    avg_val_epoch_acc = val_accs_in_epoch.mean()\n",
    "    val_losses.append(avg_val_epoch_loss)\n",
    "    val_accuracy.append(avg_val_epoch_acc)\n",
    "\n",
    "    # logging\n",
    "    print(f\"Epoch #{epoch_idx}, tr loss: {avg_tr_epoch_loss}, val loss: {avg_val_epoch_loss}, tr acc: {avg_tr_epoch_acc}, val acc: {avg_val_epoch_acc}\")\n",
    "\n",
    "    # early stopping: check if current weights give the lowest ever loss\n",
    "    if avg_val_epoch_loss < best_val_loss:\n",
    "        best_val_loss = avg_val_epoch_loss\n",
    "        best_bincl_model = copy.deepcopy(bincl_model)\n",
    "        last_early_stopping_update_ep_idx = epoch_idx\n",
    "        print(\"    Early stopping: Best model updated.\")\n",
    "\n",
    "    # early stopping: break if no update for a long time\n",
    "    if last_early_stopping_update_ep_idx + early_stopping_patience < epoch_idx:\n",
    "        print(\"Training is terminated by early stopping.\")\n",
    "        break\n",
    "\n",
    "    # (end of training loop)\n",
    "\n",
    "# restore best model (with lowest validation loss) saved by early stopping\n",
    "print(\"Training finished. Best model weights are restored.\")\n",
    "bincl_model = best_bincl_model\n",
    "\n",
    "# training has finished; evaluate trained model on test set (measure loss, accuracy on test set)\n",
    "test_ys_preds = []\n",
    "for test_batch_xs, test_batch_ys in dataloader_test:\n",
    "    with torch.no_grad():                            # no need to compute gradients for validation predictions/losses\n",
    "        test_batch_ys_pred = bincl_model(test_batch_xs)\n",
    "        test_ys_preds.append(test_batch_ys_pred)     # not collecting losses, but all predictions\n",
    "                                                     # test_batch_ys_pred.detach() is not needed, again, as we are in a no_grad environment\n",
    "\n",
    "test_ys_preds = torch.cat(test_ys_preds, dim=0)\n",
    "test_loss = loss_fn(test_ys_preds, labels_test_t[:,None])     # as the test DataLoader does not shuffle the items, the order of the inputs (and thus the predicted labels) is matching the original test set item order\n",
    "test_acc = bin_acc_fn(test_ys_preds, labels_test_t[:,None])   #       -> do not do this if the DataLoader shuffles the items\n",
    "\n",
    "print(f\"Test loss: {test_loss}, test acc: {test_acc}\")\n",
    "\n",
    "# Plot training/val curves\n",
    "plt.plot(train_losses, label='Training')\n",
    "plt.plot(val_losses, label='Validation')\n",
    "plt.plot(train_accuracy, label='Training acc')\n",
    "plt.plot(val_accuracy, label='Validation acc')\n",
    "plt.xlabel('Epochs')\n",
    "plt.ylabel('BCE loss / Accuracy')\n",
    "plt.legend()\n",
    "plt.show()\n"
   ]
  },
  {
   "cell_type": "code",
   "execution_count": null,
   "id": "da7cb059-9ee4-4be6-9f28-b1c3f9458465",
   "metadata": {
    "id": "da7cb059-9ee4-4be6-9f28-b1c3f9458465"
   },
   "outputs": [],
   "source": []
  }
 ],
 "metadata": {
  "colab": {
   "provenance": []
  },
  "kernelspec": {
   "display_name": "Python 3 (ipykernel)",
   "language": "python",
   "name": "python3"
  },
  "language_info": {
   "codemirror_mode": {
    "name": "ipython",
    "version": 3
   },
   "file_extension": ".py",
   "mimetype": "text/x-python",
   "name": "python",
   "nbconvert_exporter": "python",
   "pygments_lexer": "ipython3",
   "version": "3.10.13"
  }
 },
 "nbformat": 4,
 "nbformat_minor": 5
}
